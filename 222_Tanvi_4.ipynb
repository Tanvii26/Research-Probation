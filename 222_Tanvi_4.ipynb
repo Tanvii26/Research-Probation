{
  "nbformat": 4,
  "nbformat_minor": 0,
  "metadata": {
    "colab": {
      "provenance": [],
      "mount_file_id": "1u4bBbNuQu1TAFLFJLw002vJNO96QPyIf",
      "authorship_tag": "ABX9TyPiVbg46lonJDLgLtJoIrD/",
      "include_colab_link": true
    },
    "kernelspec": {
      "name": "python3",
      "display_name": "Python 3"
    },
    "language_info": {
      "name": "python"
    }
  },
  "cells": [
    {
      "cell_type": "markdown",
      "metadata": {
        "id": "view-in-github",
        "colab_type": "text"
      },
      "source": [
        "<a href=\"https://colab.research.google.com/github/Tanvii26/Research-Probation/blob/main/222_Tanvi_4.ipynb\" target=\"_parent\"><img src=\"https://colab.research.google.com/assets/colab-badge.svg\" alt=\"Open In Colab\"/></a>"
      ]
    },
    {
      "cell_type": "code",
      "source": [
        "import numpy as np\n",
        "import pandas as pd"
      ],
      "metadata": {
        "id": "kmJHOfSb0r0p"
      },
      "execution_count": null,
      "outputs": []
    },
    {
      "cell_type": "markdown",
      "source": [
        "---\n",
        "# Neural Network from Scratch \n",
        "---"
      ],
      "metadata": {
        "id": "mqPgKfJrypF5"
      }
    },
    {
      "cell_type": "code",
      "source": [
        "# activation and loss functions\n",
        "def sigmoid(x): #value range 0 to 1\n",
        "  return 1/(1 + np.exp(-x))\n",
        "\n",
        "def sigmoid_der(x):\n",
        "  return (1-sigmoid(x))*sigmoid(x)\n",
        "\n",
        "def tanh(x): #value range -1 to +1\n",
        "  return np.tanh(x)\n",
        "\n",
        "def tanh_der(x):\n",
        "  return 1 - np.tanh(x)**2\n",
        "\n",
        "def relu(x): #value range 0 to inf\n",
        "  return np.maximum(0,x)\n",
        "\n",
        "def relu_der(x):\n",
        "  return np.where(x>0, 1, 0)\n",
        "\n",
        "#binary cross-entropy\n",
        "def log_loss(y_true, y_pred):\n",
        "  return -(y_true*np.log(y_pred) + (1-y_true)*np.log(1-y_pred))\n",
        "\n",
        "def log_loss_der(y_true, y_pred):\n",
        "  return (y_pred - y_true)/(y_pred*(1-y_pred))"
      ],
      "metadata": {
        "id": "2Mbcezw_y2PR"
      },
      "execution_count": null,
      "outputs": []
    },
    {
      "cell_type": "code",
      "source": [
        "#Neural Network Layers Class\n",
        "\n",
        "class Layer:\n",
        "  def __init__(self, neurons_no, inputs_no, activ_func):\n",
        "    self.neurons_no = neurons_no\n",
        "    self.inputs_no = inputs_no\n",
        "    self.activ_func = activ_func\n",
        "    self.weights = np.random.randn(neurons_no,inputs_no)\n",
        "    self.b = np.zeros((neurons_no,1))\n",
        "    self.rate = 0.1\n",
        "\n",
        "  def activate(self,x):\n",
        "    if self.activ_func == 'sigmoid':\n",
        "      return sigmoid(x)\n",
        "    elif self.activ_func == 'relu':\n",
        "      return relu(x)\n",
        "    elif self.activ_func == 'tanh':\n",
        "      return tanh(x)\n",
        "    else:\n",
        "      raise ValueError(\"Please provide a reasonable activation function\")\n",
        "\n",
        "\n",
        "  def activate_der(self,x):\n",
        "    if self.activ_func == 'sigmoid':\n",
        "      return sigmoid_der(x)\n",
        "    elif self.activ_func == 'relu':\n",
        "      return relu_der(x)\n",
        "    elif self.activ_func == 'tanh':\n",
        "      return tanh_der(x)\n",
        "    else:\n",
        "      raise ValueError(\"Please provide a reasonable activation function\")\n",
        "\n",
        "\n",
        "  def feed_forward(self,inputs):\n",
        "    # Feed Forward eqn: Take inp, multiply by w, add b and apply activation func\n",
        "    self.inputs = inputs\n",
        "    self.z = np.dot(self.weights, self.inputs) + self.b\n",
        "    self.output = self.activate(self.z)\n",
        "    return self.output\n",
        "\n",
        "\n",
        "  def back_prop(self, dA):\n",
        "  # going back in our network, calc partial derivatives and apply learning eqn(for w and b)\n",
        "    dZ = np.multiply(self.activate_der(self.z), dA)\n",
        "\n",
        "    dW = 1/dZ.shape[1] * np.dot(dZ,self.inputs.T)\n",
        "    db = 1/dZ.shape[1] * np.sum(dZ, axis=1, keepdims=True)\n",
        "\n",
        "    output = np.dot(self.weights.T, dZ)\n",
        "\n",
        "    self.weights -= self.rate * dW\n",
        "    self.b -= self.rate * db \n",
        "\n",
        "    return output\n",
        "\n",
        "\n"
      ],
      "metadata": {
        "id": "ytcWNaig_PIQ"
      },
      "execution_count": null,
      "outputs": []
    },
    {
      "cell_type": "code",
      "source": [
        "# --Training to learn XOR function--\n",
        "\n",
        "X_train = np.array([[0,0,1,1], [0,1,0,1]])\n",
        "y_train = np.array([[0,1,1,0]])\n",
        "\n",
        "# samples and epochs\n",
        "m = 4\n",
        "epochs = 1000\n",
        "\n",
        "layers = [Layer(3,2,'tanh'), Layer(1,3,'sigmoid')]\n",
        "costs =[]\n",
        "\n"
      ],
      "metadata": {
        "id": "hjYAbDX_TrHx"
      },
      "execution_count": null,
      "outputs": []
    },
    {
      "cell_type": "code",
      "source": [
        "for epoch in range(epochs):\n",
        "  pred = X_train\n",
        "  # Feed Forward\n",
        "  for layer in layers:\n",
        "    pred = layer.feed_forward(pred)\n",
        "\n",
        "  cost = 1/m * np.sum(log_loss(y_train,pred))\n",
        "  costs.append(cost)\n",
        "\n",
        "  # Back Propagation\n",
        "  dA = log_loss_der(y_train,pred)\n",
        "  for layer in reversed(layers):\n",
        "    dA = layer.back_prop(dA)\n"
      ],
      "metadata": {
        "id": "b_ZZ9E8HVEFO"
      },
      "execution_count": null,
      "outputs": []
    },
    {
      "cell_type": "code",
      "source": [
        "#---Predicting---\n",
        "predict = X_train\n",
        "for layer in layers:\n",
        "  predict = layer.feed_forward(predict)\n",
        "print(predict) "
      ],
      "metadata": {
        "colab": {
          "base_uri": "https://localhost:8080/"
        },
        "id": "CRZWUZIOi1Xj",
        "outputId": "cb6ecdc7-aeb2-4eff-d009-9c60b67a1c7e"
      },
      "execution_count": null,
      "outputs": [
        {
          "output_type": "stream",
          "name": "stdout",
          "text": [
            "[[0.03208052 0.9130075  0.94549131 0.09825979]]\n"
          ]
        }
      ]
    },
    {
      "cell_type": "code",
      "source": [
        "# loss plot\n",
        "import matplotlib.pyplot as plt\n",
        "plt.plot(range(epochs), costs)"
      ],
      "metadata": {
        "colab": {
          "base_uri": "https://localhost:8080/",
          "height": 447
        },
        "id": "YBamBaFwjjyP",
        "outputId": "780c552b-dc1b-4e0d-ddf0-4177cb0ba390"
      },
      "execution_count": null,
      "outputs": [
        {
          "output_type": "execute_result",
          "data": {
            "text/plain": [
              "[<matplotlib.lines.Line2D at 0x7f598a5113c0>]"
            ]
          },
          "metadata": {},
          "execution_count": 18
        },
        {
          "output_type": "display_data",
          "data": {
            "text/plain": [
              "<Figure size 640x480 with 1 Axes>"
            ],
            "image/png": "[encoded data removed]"
          },
          "metadata": {}
        }
      ]
    },
    {
      "cell_type": "markdown",
      "source": [
        "---\n",
        "# MLP Classifier of sklearn\n",
        "---"
      ],
      "metadata": {
        "id": "jXz6XHkrkIjT"
      }
    },
    {
      "cell_type": "code",
      "source": [
        "'''\n",
        "The variable names are as follows:\n",
        "\n",
        "Number of times pregnant.\n",
        "Plasma glucose concentration a 2 hours in an oral glucose tolerance test.\n",
        "Diastolic blood pressure (mm Hg).\n",
        "Triceps skinfold thickness (mm).\n",
        "2-Hour serum insulin (mu U/ml).\n",
        "Body mass index (weight in kg/(height in m)^2).\n",
        "Diabetes pedigree function.\n",
        "Age (years).\n",
        "Class variable (0 or 1).\n",
        "\n",
        "'''"
      ],
      "metadata": {
        "id": "SyOW3MSskNc7",
        "colab": {
          "base_uri": "https://localhost:8080/",
          "height": 70
        },
        "outputId": "f29ac398-afe3-4b06-9ce6-9a3675e1635f"
      },
      "execution_count": null,
      "outputs": [
        {
          "output_type": "execute_result",
          "data": {
            "text/plain": [
              "'\\nThe variable names are as follows:\\n\\nNumber of times pregnant.\\nPlasma glucose concentration a 2 hours in an oral glucose tolerance test.\\nDiastolic blood pressure (mm Hg).\\nTriceps skinfold thickness (mm).\\n2-Hour serum insulin (mu U/ml).\\nBody mass index (weight in kg/(height in m)^2).\\nDiabetes pedigree function.\\nAge (years).\\nClass variable (0 or 1).\\n\\n'"
            ],
            "application/vnd.google.colaboratory.intrinsic+json": {
              "type": "string"
            }
          },
          "metadata": {},
          "execution_count": 19
        }
      ]
    },
    {
      "cell_type": "code",
      "source": [
        "df = pd.read_csv('/content/diabetes.csv')"
      ],
      "metadata": {
        "id": "AXHB6s8ilXyr"
      },
      "execution_count": null,
      "outputs": []
    },
    {
      "cell_type": "code",
      "source": [
        "df.head()"
      ],
      "metadata": {
        "colab": {
          "base_uri": "https://localhost:8080/",
          "height": 267
        },
        "id": "JxTsWEkvliwS",
        "outputId": "6125c496-b779-4fee-86bb-8f60c4a1adbf"
      },
      "execution_count": null,
      "outputs": [
        {
          "output_type": "execute_result",
          "data": {
            "text/plain": [
              "   pregnancies  plasma glucose concentration  diastolic blood pressure  \\\n",
              "0            6                           148                        72   \n",
              "1            1                            85                        66   \n",
              "2            8                           183                        64   \n",
              "3            1                            89                        66   \n",
              "4            0                           137                        40   \n",
              "\n",
              "   triceps skinfold thickness  insulin  body mass index  \\\n",
              "0                          35        0             33.6   \n",
              "1                          29        0             26.6   \n",
              "2                           0        0             23.3   \n",
              "3                          23       94             28.1   \n",
              "4                          35      168             43.1   \n",
              "\n",
              "   diabetes pedigree function  age  diabetic  \n",
              "0                       0.627   50         1  \n",
              "1                       0.351   31         0  \n",
              "2                       0.672   32         1  \n",
              "3                       0.167   21         0  \n",
              "4                       2.288   33         1  "
            ],
            "text/html": [
              "\n",
              "  <div id=\"df-905f9d14-40cf-4d92-bda6-aeadced9bc8d\">\n",
              "    <div class=\"colab-df-container\">\n",
              "      <div>\n",
              "<style scoped>\n",
              "    .dataframe tbody tr th:only-of-type {\n",
              "        vertical-align: middle;\n",
              "    }\n",
              "\n",
              "    .dataframe tbody tr th {\n",
              "        vertical-align: top;\n",
              "    }\n",
              "\n",
              "    .dataframe thead th {\n",
              "        text-align: right;\n",
              "    }\n",
              "</style>\n",
              "<table border=\"1\" class=\"dataframe\">\n",
              "  <thead>\n",
              "    <tr style=\"text-align: right;\">\n",
              "      <th></th>\n",
              "      <th>pregnancies</th>\n",
              "      <th>plasma glucose concentration</th>\n",
              "      <th>diastolic blood pressure</th>\n",
              "      <th>triceps skinfold thickness</th>\n",
              "      <th>insulin</th>\n",
              "      <th>body mass index</th>\n",
              "      <th>diabetes pedigree function</th>\n",
              "      <th>age</th>\n",
              "      <th>diabetic</th>\n",
              "    </tr>\n",
              "  </thead>\n",
              "  <tbody>\n",
              "    <tr>\n",
              "      <th>0</th>\n",
              "      <td>6</td>\n",
              "      <td>148</td>\n",
              "      <td>72</td>\n",
              "      <td>35</td>\n",
              "      <td>0</td>\n",
              "      <td>33.6</td>\n",
              "      <td>0.627</td>\n",
              "      <td>50</td>\n",
              "      <td>1</td>\n",
              "    </tr>\n",
              "    <tr>\n",
              "      <th>1</th>\n",
              "      <td>1</td>\n",
              "      <td>85</td>\n",
              "      <td>66</td>\n",
              "      <td>29</td>\n",
              "      <td>0</td>\n",
              "      <td>26.6</td>\n",
              "      <td>0.351</td>\n",
              "      <td>31</td>\n",
              "      <td>0</td>\n",
              "    </tr>\n",
              "    <tr>\n",
              "      <th>2</th>\n",
              "      <td>8</td>\n",
              "      <td>183</td>\n",
              "      <td>64</td>\n",
              "      <td>0</td>\n",
              "      <td>0</td>\n",
              "      <td>23.3</td>\n",
              "      <td>0.672</td>\n",
              "      <td>32</td>\n",
              "      <td>1</td>\n",
              "    </tr>\n",
              "    <tr>\n",
              "      <th>3</th>\n",
              "      <td>1</td>\n",
              "      <td>89</td>\n",
              "      <td>66</td>\n",
              "      <td>23</td>\n",
              "      <td>94</td>\n",
              "      <td>28.1</td>\n",
              "      <td>0.167</td>\n",
              "      <td>21</td>\n",
              "      <td>0</td>\n",
              "    </tr>\n",
              "    <tr>\n",
              "      <th>4</th>\n",
              "      <td>0</td>\n",
              "      <td>137</td>\n",
              "      <td>40</td>\n",
              "      <td>35</td>\n",
              "      <td>168</td>\n",
              "      <td>43.1</td>\n",
              "      <td>2.288</td>\n",
              "      <td>33</td>\n",
              "      <td>1</td>\n",
              "    </tr>\n",
              "  </tbody>\n",
              "</table>\n",
              "</div>\n",
              "      <button class=\"colab-df-convert\" onclick=\"convertToInteractive('df-905f9d14-40cf-4d92-bda6-aeadced9bc8d')\"\n",
              "              title=\"Convert this dataframe to an interactive table.\"\n",
              "              style=\"display:none;\">\n",
              "        \n",
              "  <svg xmlns=\"http://www.w3.org/2000/svg\" height=\"24px\"viewBox=\"0 0 24 24\"\n",
              "       width=\"24px\">\n",
              "    <path d=\"M0 0h24v24H0V0z\" fill=\"none\"/>\n",
              "    <path d=\"M18.56 5.44l.94 2.06.94-2.06 2.06-.94-2.06-.94-.94-2.06-.94 2.06-2.06.94zm-11 1L8.5 8.5l.94-2.06 2.06-.94-2.06-.94L8.5 2.5l-.94 2.06-2.06.94zm10 10l.94 2.06.94-2.06 2.06-.94-2.06-.94-.94-2.06-.94 2.06-2.06.94z\"/><path d=\"M17.41 7.96l-1.37-1.37c-.4-.4-.92-.59-1.43-.59-.52 0-1.04.2-1.43.59L10.3 9.45l-7.72 7.72c-.78.78-.78 2.05 0 2.83L4 21.41c.39.39.9.59 1.41.59.51 0 1.02-.2 1.41-.59l7.78-7.78 2.81-2.81c.8-.78.8-2.07 0-2.86zM5.41 20L4 18.59l7.72-7.72 1.47 1.35L5.41 20z\"/>\n",
              "  </svg>\n",
              "      </button>\n",
              "      \n",
              "  <style>\n",
              "    .colab-df-container {\n",
              "      display:flex;\n",
              "      flex-wrap:wrap;\n",
              "      gap: 12px;\n",
              "    }\n",
              "\n",
              "    .colab-df-convert {\n",
              "      background-color: #E8F0FE;\n",
              "      border: none;\n",
              "      border-radius: 50%;\n",
              "      cursor: pointer;\n",
              "      display: none;\n",
              "      fill: #1967D2;\n",
              "      height: 32px;\n",
              "      padding: 0 0 0 0;\n",
              "      width: 32px;\n",
              "    }\n",
              "\n",
              "    .colab-df-convert:hover {\n",
              "      background-color: #E2EBFA;\n",
              "      box-shadow: 0px 1px 2px rgba(60, 64, 67, 0.3), 0px 1px 3px 1px rgba(60, 64, 67, 0.15);\n",
              "      fill: #174EA6;\n",
              "    }\n",
              "\n",
              "    [theme=dark] .colab-df-convert {\n",
              "      background-color: #3B4455;\n",
              "      fill: #D2E3FC;\n",
              "    }\n",
              "\n",
              "    [theme=dark] .colab-df-convert:hover {\n",
              "      background-color: #434B5C;\n",
              "      box-shadow: 0px 1px 3px 1px rgba(0, 0, 0, 0.15);\n",
              "      filter: drop-shadow(0px 1px 2px rgba(0, 0, 0, 0.3));\n",
              "      fill: #FFFFFF;\n",
              "    }\n",
              "  </style>\n",
              "\n",
              "      <script>\n",
              "        const buttonEl =\n",
              "          document.querySelector('#df-905f9d14-40cf-4d92-bda6-aeadced9bc8d button.colab-df-convert');\n",
              "        buttonEl.style.display =\n",
              "          google.colab.kernel.accessAllowed ? 'block' : 'none';\n",
              "\n",
              "        async function convertToInteractive(key) {\n",
              "          const element = document.querySelector('#df-905f9d14-40cf-4d92-bda6-aeadced9bc8d');\n",
              "          const dataTable =\n",
              "            await google.colab.kernel.invokeFunction('convertToInteractive',\n",
              "                                                     [key], {});\n",
              "          if (!dataTable) return;\n",
              "\n",
              "          const docLinkHtml = 'Like what you see? Visit the ' +\n",
              "            '<a target=\"_blank\" href=https://colab.research.google.com/notebooks/data_table.ipynb>data table notebook</a>'\n",
              "            + ' to learn more about interactive tables.';\n",
              "          element.innerHTML = '';\n",
              "          dataTable['output_type'] = 'display_data';\n",
              "          await google.colab.output.renderOutput(dataTable, element);\n",
              "          const docLink = document.createElement('div');\n",
              "          docLink.innerHTML = docLinkHtml;\n",
              "          element.appendChild(docLink);\n",
              "        }\n",
              "      </script>\n",
              "    </div>\n",
              "  </div>\n",
              "  "
            ]
          },
          "metadata": {},
          "execution_count": 21
        }
      ]
    },
    {
      "cell_type": "code",
      "source": [
        "df.isnull().sum()"
      ],
      "metadata": {
        "colab": {
          "base_uri": "https://localhost:8080/"
        },
        "id": "vzZvdqWvlnwN",
        "outputId": "a31d19b0-2011-48f2-d90b-43247672f1cb"
      },
      "execution_count": null,
      "outputs": [
        {
          "output_type": "execute_result",
          "data": {
            "text/plain": [
              "pregnancies                     0\n",
              "plasma glucose concentration    0\n",
              "diastolic blood pressure        0\n",
              "triceps skinfold thickness      0\n",
              "insulin                         0\n",
              "body mass index                 0\n",
              "diabetes pedigree function      0\n",
              "age                             0\n",
              "diabetic                        0\n",
              "dtype: int64"
            ]
          },
          "metadata": {},
          "execution_count": 22
        }
      ]
    },
    {
      "cell_type": "code",
      "source": [
        "X = df.iloc[:,:-1].values\n",
        "y = df['diabetic'].values"
      ],
      "metadata": {
        "id": "SHB9MJS_lrdF"
      },
      "execution_count": null,
      "outputs": []
    },
    {
      "cell_type": "code",
      "source": [
        "# test train split\n",
        "from sklearn.model_selection import train_test_split\n",
        "X_train, X_test, y_train, y_test = train_test_split(X, y, test_size=0.2)"
      ],
      "metadata": {
        "id": "KtuqsqFbp6_T"
      },
      "execution_count": null,
      "outputs": []
    },
    {
      "cell_type": "code",
      "source": [
        "# Feature Scaling\n",
        "from sklearn.preprocessing import StandardScaler\n",
        "scaler = StandardScaler()\n",
        "X_train = scaler.fit_transform(X_train)\n",
        "X_test = scaler.transform(X_test)"
      ],
      "metadata": {
        "id": "j2woNYGIo-S5"
      },
      "execution_count": null,
      "outputs": []
    },
    {
      "cell_type": "code",
      "source": [
        "def accuracy(confusion_matrix):\n",
        "   correct_predict = confusion_matrix.trace()\n",
        "   total_predict = confusion_matrix.sum()\n",
        "   return correct_predict/total_predict"
      ],
      "metadata": {
        "id": "FrLl8hV-quHo"
      },
      "execution_count": null,
      "outputs": []
    },
    {
      "cell_type": "code",
      "source": [
        "#create classifier and train model\n",
        "from sklearn.neural_network import MLPClassifier\n",
        "from sklearn.metrics import confusion_matrix\n",
        "mlpClass = MLPClassifier(hidden_layer_sizes=(5), max_iter=1200, activation='relu')\n",
        "\n",
        "mlpClass.fit(X_train, y_train)"
      ],
      "metadata": {
        "colab": {
          "base_uri": "https://localhost:8080/",
          "height": 74
        },
        "id": "rZ7tDjPurNwa",
        "outputId": "dc628948-1f84-4dc2-8386-e29879ab8c51"
      },
      "execution_count": null,
      "outputs": [
        {
          "output_type": "execute_result",
          "data": {
            "text/plain": [
              "MLPClassifier(hidden_layer_sizes=5, max_iter=1200)"
            ],
            "text/html": [
              "<style>#sk-container-id-1 {color: black;background-color: white;}#sk-container-id-1 pre{padding: 0;}#sk-container-id-1 div.sk-toggleable {background-color: white;}#sk-container-id-1 label.sk-toggleable__label {cursor: pointer;display: block;width: 100%;margin-bottom: 0;padding: 0.3em;box-sizing: border-box;text-align: center;}#sk-container-id-1 label.sk-toggleable__label-arrow:before {content: \"▸\";float: left;margin-right: 0.25em;color: #696969;}#sk-container-id-1 label.sk-toggleable__label-arrow:hover:before {color: black;}#sk-container-id-1 div.sk-estimator:hover label.sk-toggleable__label-arrow:before {color: black;}#sk-container-id-1 div.sk-toggleable__content {max-height: 0;max-width: 0;overflow: hidden;text-align: left;background-color: #f0f8ff;}#sk-container-id-1 div.sk-toggleable__content pre {margin: 0.2em;color: black;border-radius: 0.25em;background-color: #f0f8ff;}#sk-container-id-1 input.sk-toggleable__control:checked~div.sk-toggleable__content {max-height: 200px;max-width: 100%;overflow: auto;}#sk-container-id-1 input.sk-toggleable__control:checked~label.sk-toggleable__label-arrow:before {content: \"▾\";}#sk-container-id-1 div.sk-estimator input.sk-toggleable__control:checked~label.sk-toggleable__label {background-color: #d4ebff;}#sk-container-id-1 div.sk-label input.sk-toggleable__control:checked~label.sk-toggleable__label {background-color: #d4ebff;}#sk-container-id-1 input.sk-hidden--visually {border: 0;clip: rect(1px 1px 1px 1px);clip: rect(1px, 1px, 1px, 1px);height: 1px;margin: -1px;overflow: hidden;padding: 0;position: absolute;width: 1px;}#sk-container-id-1 div.sk-estimator {font-family: monospace;background-color: #f0f8ff;border: 1px dotted black;border-radius: 0.25em;box-sizing: border-box;margin-bottom: 0.5em;}#sk-container-id-1 div.sk-estimator:hover {background-color: #d4ebff;}#sk-container-id-1 div.sk-parallel-item::after {content: \"\";width: 100%;border-bottom: 1px solid gray;flex-grow: 1;}#sk-container-id-1 div.sk-label:hover label.sk-toggleable__label {background-color: #d4ebff;}#sk-container-id-1 div.sk-serial::before {content: \"\";position: absolute;border-left: 1px solid gray;box-sizing: border-box;top: 0;bottom: 0;left: 50%;z-index: 0;}#sk-container-id-1 div.sk-serial {display: flex;flex-direction: column;align-items: center;background-color: white;padding-right: 0.2em;padding-left: 0.2em;position: relative;}#sk-container-id-1 div.sk-item {position: relative;z-index: 1;}#sk-container-id-1 div.sk-parallel {display: flex;align-items: stretch;justify-content: center;background-color: white;position: relative;}#sk-container-id-1 div.sk-item::before, #sk-container-id-1 div.sk-parallel-item::before {content: \"\";position: absolute;border-left: 1px solid gray;box-sizing: border-box;top: 0;bottom: 0;left: 50%;z-index: -1;}#sk-container-id-1 div.sk-parallel-item {display: flex;flex-direction: column;z-index: 1;position: relative;background-color: white;}#sk-container-id-1 div.sk-parallel-item:first-child::after {align-self: flex-end;width: 50%;}#sk-container-id-1 div.sk-parallel-item:last-child::after {align-self: flex-start;width: 50%;}#sk-container-id-1 div.sk-parallel-item:only-child::after {width: 0;}#sk-container-id-1 div.sk-dashed-wrapped {border: 1px dashed gray;margin: 0 0.4em 0.5em 0.4em;box-sizing: border-box;padding-bottom: 0.4em;background-color: white;}#sk-container-id-1 div.sk-label label {font-family: monospace;font-weight: bold;display: inline-block;line-height: 1.2em;}#sk-container-id-1 div.sk-label-container {text-align: center;}#sk-container-id-1 div.sk-container {/* jupyter's `normalize.less` sets `[hidden] { display: none; }` but bootstrap.min.css set `[hidden] { display: none !important; }` so we also need the `!important` here to be able to override the default hidden behavior on the sphinx rendered scikit-learn.org. See: https://github.com/scikit-learn/scikit-learn/issues/21755 */display: inline-block !important;position: relative;}#sk-container-id-1 div.sk-text-repr-fallback {display: none;}</style><div id=\"sk-container-id-1\" class=\"sk-top-container\"><div class=\"sk-text-repr-fallback\"><pre>MLPClassifier(hidden_layer_sizes=5, max_iter=1200)</pre><b>In a Jupyter environment, please rerun this cell to show the HTML representation or trust the notebook. <br />On GitHub, the HTML representation is unable to render, please try loading this page with nbviewer.org.</b></div><div class=\"sk-container\" hidden><div class=\"sk-item\"><div class=\"sk-estimator sk-toggleable\"><input class=\"sk-toggleable__control sk-hidden--visually\" id=\"sk-estimator-id-1\" type=\"checkbox\" checked><label for=\"sk-estimator-id-1\" class=\"sk-toggleable__label sk-toggleable__label-arrow\">MLPClassifier</label><div class=\"sk-toggleable__content\"><pre>MLPClassifier(hidden_layer_sizes=5, max_iter=1200)</pre></div></div></div></div></div>"
            ]
          },
          "metadata": {},
          "execution_count": 27
        }
      ]
    },
    {
      "cell_type": "code",
      "source": [
        "y_pred = mlpClass.predict(X_test)\n",
        "\n",
        "res = confusion_matrix(y_pred,y_test)\n",
        "print(\"Accuracy: \", accuracy(res))"
      ],
      "metadata": {
        "colab": {
          "base_uri": "https://localhost:8080/"
        },
        "id": "9Uy66-prv7-2",
        "outputId": "de1471d4-94f9-4f14-bf28-1cba6d273c9d"
      },
      "execution_count": null,
      "outputs": [
        {
          "output_type": "stream",
          "name": "stdout",
          "text": [
            "Accuracy:  0.7792207792207793\n"
          ]
        }
      ]
    },
    {
      "cell_type": "markdown",
      "source": [
        "---\n",
        "# Keras Library\n",
        "---"
      ],
      "metadata": {
        "id": "H9JHw1qAxtVR"
      }
    },
    {
      "cell_type": "code",
      "source": [
        "!pip install tensorflow\n",
        "!pip install keras"
      ],
      "metadata": {
        "id": "BnEhVKRw3MiY"
      },
      "execution_count": null,
      "outputs": []
    },
    {
      "cell_type": "code",
      "source": [
        "from tensorflow import keras\n",
        "from keras.models import Sequential\n",
        "from keras.layers import Dense, Embedding, LSTM\n",
        "\n",
        "# Sequential API -> layer-by-layer model creation\n",
        "# Functional API -> complex models, shared layers and multiple inputs\n",
        "\n",
        "model = Sequential()"
      ],
      "metadata": {
        "id": "HP4yK1YYxxWV"
      },
      "execution_count": null,
      "outputs": []
    },
    {
      "cell_type": "code",
      "source": [
        "model.add(Dense(9, input_shape=(8,), activation='relu'))\n",
        "model.add(Dense(6, activation='relu')) # 1 hidden layer only\n",
        "model.add(Dense(1, activation='sigmoid'))"
      ],
      "metadata": {
        "id": "Xn7--N2I35-X"
      },
      "execution_count": null,
      "outputs": []
    },
    {
      "cell_type": "code",
      "source": [
        "model.compile(loss='binary_crossentropy', optimizer='adam', metrics=['accuracy'])\n",
        "# adam - stochastic gradient descent algo -> auto tune itself"
      ],
      "metadata": {
        "id": "S5h0aaDp4m76"
      },
      "execution_count": null,
      "outputs": []
    },
    {
      "cell_type": "code",
      "source": [
        "history = model.fit(X_train, y_train, epochs=150, batch_size=10)"
      ],
      "metadata": {
        "colab": {
          "base_uri": "https://localhost:8080/"
        },
        "id": "pmKt2rSw5aob",
        "outputId": "4634a480-cf7e-4139-8cd4-fc72cb621d64"
      },
      "execution_count": null,
      "outputs": [
        {
          "output_type": "stream",
          "name": "stdout",
          "text": [
            "Epoch 1/150\n",
            "62/62 [==============================] - 2s 2ms/step - loss: 0.6940 - accuracy: 0.5375\n",
            "Epoch 2/150\n",
            "62/62 [==============================] - 0s 2ms/step - loss: 0.6640 - accuracy: 0.6124\n",
            "Epoch 3/150\n",
            "62/62 [==============================] - 0s 6ms/step - loss: 0.6395 - accuracy: 0.6857\n",
            "Epoch 4/150\n",
            "62/62 [==============================] - 0s 2ms/step - loss: 0.6159 - accuracy: 0.7150\n",
            "Epoch 5/150\n",
            "62/62 [==============================] - 0s 2ms/step - loss: 0.5927 - accuracy: 0.7313\n",
            "Epoch 6/150\n",
            "62/62 [==============================] - 0s 2ms/step - loss: 0.5702 - accuracy: 0.7443\n",
            "Epoch 7/150\n",
            "62/62 [==============================] - 0s 2ms/step - loss: 0.5509 - accuracy: 0.7508\n",
            "Epoch 8/150\n",
            "62/62 [==============================] - 0s 2ms/step - loss: 0.5355 - accuracy: 0.7557\n",
            "Epoch 9/150\n",
            "62/62 [==============================] - 0s 2ms/step - loss: 0.5248 - accuracy: 0.7687\n",
            "Epoch 10/150\n",
            "62/62 [==============================] - 0s 2ms/step - loss: 0.5162 - accuracy: 0.7671\n",
            "Epoch 11/150\n",
            "62/62 [==============================] - 0s 2ms/step - loss: 0.5089 - accuracy: 0.7671\n",
            "Epoch 12/150\n",
            "62/62 [==============================] - 0s 2ms/step - loss: 0.5035 - accuracy: 0.7671\n",
            "Epoch 13/150\n",
            "62/62 [==============================] - 0s 2ms/step - loss: 0.4982 - accuracy: 0.7687\n",
            "Epoch 14/150\n",
            "62/62 [==============================] - 0s 2ms/step - loss: 0.4946 - accuracy: 0.7752\n",
            "Epoch 15/150\n",
            "62/62 [==============================] - 0s 2ms/step - loss: 0.4907 - accuracy: 0.7752\n",
            "Epoch 16/150\n",
            "62/62 [==============================] - 0s 2ms/step - loss: 0.4884 - accuracy: 0.7704\n",
            "Epoch 17/150\n",
            "62/62 [==============================] - 0s 3ms/step - loss: 0.4855 - accuracy: 0.7720\n",
            "Epoch 18/150\n",
            "62/62 [==============================] - 0s 3ms/step - loss: 0.4836 - accuracy: 0.7720\n",
            "Epoch 19/150\n",
            "62/62 [==============================] - 0s 2ms/step - loss: 0.4812 - accuracy: 0.7638\n",
            "Epoch 20/150\n",
            "62/62 [==============================] - 0s 2ms/step - loss: 0.4778 - accuracy: 0.7671\n",
            "Epoch 21/150\n",
            "62/62 [==============================] - 0s 2ms/step - loss: 0.4768 - accuracy: 0.7687\n",
            "Epoch 22/150\n",
            "62/62 [==============================] - 0s 2ms/step - loss: 0.4744 - accuracy: 0.7671\n",
            "Epoch 23/150\n",
            "62/62 [==============================] - 0s 2ms/step - loss: 0.4728 - accuracy: 0.7687\n",
            "Epoch 24/150\n",
            "62/62 [==============================] - 0s 2ms/step - loss: 0.4716 - accuracy: 0.7687\n",
            "Epoch 25/150\n",
            "62/62 [==============================] - 0s 2ms/step - loss: 0.4701 - accuracy: 0.7687\n",
            "Epoch 26/150\n",
            "62/62 [==============================] - 0s 2ms/step - loss: 0.4692 - accuracy: 0.7704\n",
            "Epoch 27/150\n",
            "62/62 [==============================] - 0s 2ms/step - loss: 0.4683 - accuracy: 0.7736\n",
            "Epoch 28/150\n",
            "62/62 [==============================] - 0s 2ms/step - loss: 0.4667 - accuracy: 0.7736\n",
            "Epoch 29/150\n",
            "62/62 [==============================] - 0s 2ms/step - loss: 0.4663 - accuracy: 0.7785\n",
            "Epoch 30/150\n",
            "62/62 [==============================] - 0s 2ms/step - loss: 0.4658 - accuracy: 0.7785\n",
            "Epoch 31/150\n",
            "62/62 [==============================] - 0s 2ms/step - loss: 0.4642 - accuracy: 0.7769\n",
            "Epoch 32/150\n",
            "62/62 [==============================] - 0s 2ms/step - loss: 0.4640 - accuracy: 0.7801\n",
            "Epoch 33/150\n",
            "62/62 [==============================] - 0s 2ms/step - loss: 0.4630 - accuracy: 0.7834\n",
            "Epoch 34/150\n",
            "62/62 [==============================] - 0s 2ms/step - loss: 0.4619 - accuracy: 0.7752\n",
            "Epoch 35/150\n",
            "62/62 [==============================] - 0s 2ms/step - loss: 0.4611 - accuracy: 0.7769\n",
            "Epoch 36/150\n",
            "62/62 [==============================] - 0s 2ms/step - loss: 0.4604 - accuracy: 0.7769\n",
            "Epoch 37/150\n",
            "62/62 [==============================] - 0s 2ms/step - loss: 0.4599 - accuracy: 0.7752\n",
            "Epoch 38/150\n",
            "62/62 [==============================] - 0s 2ms/step - loss: 0.4591 - accuracy: 0.7834\n",
            "Epoch 39/150\n",
            "62/62 [==============================] - 0s 2ms/step - loss: 0.4583 - accuracy: 0.7769\n",
            "Epoch 40/150\n",
            "62/62 [==============================] - 0s 2ms/step - loss: 0.4577 - accuracy: 0.7801\n",
            "Epoch 41/150\n",
            "62/62 [==============================] - 0s 2ms/step - loss: 0.4571 - accuracy: 0.7785\n",
            "Epoch 42/150\n",
            "62/62 [==============================] - 0s 2ms/step - loss: 0.4569 - accuracy: 0.7752\n",
            "Epoch 43/150\n",
            "62/62 [==============================] - 0s 2ms/step - loss: 0.4559 - accuracy: 0.7785\n",
            "Epoch 44/150\n",
            "62/62 [==============================] - 0s 2ms/step - loss: 0.4554 - accuracy: 0.7752\n",
            "Epoch 45/150\n",
            "62/62 [==============================] - 0s 2ms/step - loss: 0.4549 - accuracy: 0.7834\n",
            "Epoch 46/150\n",
            "62/62 [==============================] - 0s 2ms/step - loss: 0.4545 - accuracy: 0.7785\n",
            "Epoch 47/150\n",
            "62/62 [==============================] - 0s 2ms/step - loss: 0.4544 - accuracy: 0.7818\n",
            "Epoch 48/150\n",
            "62/62 [==============================] - 0s 2ms/step - loss: 0.4540 - accuracy: 0.7801\n",
            "Epoch 49/150\n",
            "62/62 [==============================] - 0s 2ms/step - loss: 0.4540 - accuracy: 0.7834\n",
            "Epoch 50/150\n",
            "62/62 [==============================] - 0s 3ms/step - loss: 0.4526 - accuracy: 0.7818\n",
            "Epoch 51/150\n",
            "62/62 [==============================] - 0s 3ms/step - loss: 0.4525 - accuracy: 0.7801\n",
            "Epoch 52/150\n",
            "62/62 [==============================] - 0s 3ms/step - loss: 0.4522 - accuracy: 0.7801\n",
            "Epoch 53/150\n",
            "62/62 [==============================] - 0s 3ms/step - loss: 0.4512 - accuracy: 0.7850\n",
            "Epoch 54/150\n",
            "62/62 [==============================] - 0s 4ms/step - loss: 0.4517 - accuracy: 0.7785\n",
            "Epoch 55/150\n",
            "62/62 [==============================] - 0s 3ms/step - loss: 0.4503 - accuracy: 0.7801\n",
            "Epoch 56/150\n",
            "62/62 [==============================] - 0s 4ms/step - loss: 0.4501 - accuracy: 0.7834\n",
            "Epoch 57/150\n",
            "62/62 [==============================] - 0s 3ms/step - loss: 0.4500 - accuracy: 0.7818\n",
            "Epoch 58/150\n",
            "62/62 [==============================] - 0s 3ms/step - loss: 0.4497 - accuracy: 0.7866\n",
            "Epoch 59/150\n",
            "62/62 [==============================] - 0s 3ms/step - loss: 0.4490 - accuracy: 0.7818\n",
            "Epoch 60/150\n",
            "62/62 [==============================] - 0s 3ms/step - loss: 0.4489 - accuracy: 0.7818\n",
            "Epoch 61/150\n",
            "62/62 [==============================] - 0s 4ms/step - loss: 0.4483 - accuracy: 0.7834\n",
            "Epoch 62/150\n",
            "62/62 [==============================] - 0s 5ms/step - loss: 0.4475 - accuracy: 0.7801\n",
            "Epoch 63/150\n",
            "62/62 [==============================] - 0s 5ms/step - loss: 0.4471 - accuracy: 0.7850\n",
            "Epoch 64/150\n",
            "62/62 [==============================] - 0s 5ms/step - loss: 0.4469 - accuracy: 0.7818\n",
            "Epoch 65/150\n",
            "62/62 [==============================] - 0s 6ms/step - loss: 0.4463 - accuracy: 0.7899\n",
            "Epoch 66/150\n",
            "62/62 [==============================] - 0s 6ms/step - loss: 0.4471 - accuracy: 0.7866\n",
            "Epoch 67/150\n",
            "62/62 [==============================] - 0s 5ms/step - loss: 0.4459 - accuracy: 0.7866\n",
            "Epoch 68/150\n",
            "62/62 [==============================] - 0s 5ms/step - loss: 0.4461 - accuracy: 0.7899\n",
            "Epoch 69/150\n",
            "62/62 [==============================] - 0s 4ms/step - loss: 0.4458 - accuracy: 0.7899\n",
            "Epoch 70/150\n",
            "62/62 [==============================] - 0s 4ms/step - loss: 0.4453 - accuracy: 0.7866\n",
            "Epoch 71/150\n",
            "62/62 [==============================] - 0s 5ms/step - loss: 0.4449 - accuracy: 0.7899\n",
            "Epoch 72/150\n",
            "62/62 [==============================] - 0s 5ms/step - loss: 0.4451 - accuracy: 0.7866\n",
            "Epoch 73/150\n",
            "62/62 [==============================] - 0s 5ms/step - loss: 0.4448 - accuracy: 0.7899\n",
            "Epoch 74/150\n",
            "62/62 [==============================] - 0s 3ms/step - loss: 0.4446 - accuracy: 0.7883\n",
            "Epoch 75/150\n",
            "62/62 [==============================] - 0s 3ms/step - loss: 0.4442 - accuracy: 0.7932\n",
            "Epoch 76/150\n",
            "62/62 [==============================] - 0s 3ms/step - loss: 0.4436 - accuracy: 0.7915\n",
            "Epoch 77/150\n",
            "62/62 [==============================] - 0s 5ms/step - loss: 0.4427 - accuracy: 0.7932\n",
            "Epoch 78/150\n",
            "62/62 [==============================] - 0s 3ms/step - loss: 0.4425 - accuracy: 0.7964\n",
            "Epoch 79/150\n",
            "62/62 [==============================] - 0s 3ms/step - loss: 0.4423 - accuracy: 0.7915\n",
            "Epoch 80/150\n",
            "62/62 [==============================] - 0s 5ms/step - loss: 0.4420 - accuracy: 0.7948\n",
            "Epoch 81/150\n",
            "62/62 [==============================] - 0s 4ms/step - loss: 0.4422 - accuracy: 0.7948\n",
            "Epoch 82/150\n",
            "62/62 [==============================] - 0s 3ms/step - loss: 0.4422 - accuracy: 0.7915\n",
            "Epoch 83/150\n",
            "62/62 [==============================] - 0s 3ms/step - loss: 0.4417 - accuracy: 0.7915\n",
            "Epoch 84/150\n",
            "62/62 [==============================] - 0s 4ms/step - loss: 0.4415 - accuracy: 0.7915\n",
            "Epoch 85/150\n",
            "62/62 [==============================] - 0s 4ms/step - loss: 0.4411 - accuracy: 0.7899\n",
            "Epoch 86/150\n",
            "62/62 [==============================] - 0s 5ms/step - loss: 0.4418 - accuracy: 0.7948\n",
            "Epoch 87/150\n",
            "62/62 [==============================] - 0s 3ms/step - loss: 0.4409 - accuracy: 0.7948\n",
            "Epoch 88/150\n",
            "62/62 [==============================] - 0s 3ms/step - loss: 0.4395 - accuracy: 0.7948\n",
            "Epoch 89/150\n",
            "62/62 [==============================] - 0s 3ms/step - loss: 0.4395 - accuracy: 0.7964\n",
            "Epoch 90/150\n",
            "62/62 [==============================] - 0s 3ms/step - loss: 0.4399 - accuracy: 0.7915\n",
            "Epoch 91/150\n",
            "62/62 [==============================] - 0s 4ms/step - loss: 0.4388 - accuracy: 0.7932\n",
            "Epoch 92/150\n",
            "62/62 [==============================] - 0s 4ms/step - loss: 0.4384 - accuracy: 0.7964\n",
            "Epoch 93/150\n",
            "62/62 [==============================] - 0s 3ms/step - loss: 0.4386 - accuracy: 0.7932\n",
            "Epoch 94/150\n",
            "62/62 [==============================] - 0s 3ms/step - loss: 0.4380 - accuracy: 0.7899\n",
            "Epoch 95/150\n",
            "62/62 [==============================] - 0s 5ms/step - loss: 0.4375 - accuracy: 0.7932\n",
            "Epoch 96/150\n",
            "62/62 [==============================] - 0s 5ms/step - loss: 0.4372 - accuracy: 0.7915\n",
            "Epoch 97/150\n",
            "62/62 [==============================] - 0s 3ms/step - loss: 0.4373 - accuracy: 0.7932\n",
            "Epoch 98/150\n",
            "62/62 [==============================] - 0s 2ms/step - loss: 0.4368 - accuracy: 0.7948\n",
            "Epoch 99/150\n",
            "62/62 [==============================] - 0s 3ms/step - loss: 0.4363 - accuracy: 0.7964\n",
            "Epoch 100/150\n",
            "62/62 [==============================] - 0s 4ms/step - loss: 0.4360 - accuracy: 0.7997\n",
            "Epoch 101/150\n",
            "62/62 [==============================] - 0s 3ms/step - loss: 0.4357 - accuracy: 0.7964\n",
            "Epoch 102/150\n",
            "62/62 [==============================] - 0s 2ms/step - loss: 0.4363 - accuracy: 0.7964\n",
            "Epoch 103/150\n",
            "62/62 [==============================] - 0s 3ms/step - loss: 0.4352 - accuracy: 0.7980\n",
            "Epoch 104/150\n",
            "62/62 [==============================] - 0s 4ms/step - loss: 0.4355 - accuracy: 0.7980\n",
            "Epoch 105/150\n",
            "62/62 [==============================] - 0s 4ms/step - loss: 0.4342 - accuracy: 0.8029\n",
            "Epoch 106/150\n",
            "62/62 [==============================] - 0s 3ms/step - loss: 0.4343 - accuracy: 0.7980\n",
            "Epoch 107/150\n",
            "62/62 [==============================] - 0s 4ms/step - loss: 0.4345 - accuracy: 0.7964\n",
            "Epoch 108/150\n",
            "62/62 [==============================] - 0s 4ms/step - loss: 0.4349 - accuracy: 0.7980\n",
            "Epoch 109/150\n",
            "62/62 [==============================] - 0s 4ms/step - loss: 0.4331 - accuracy: 0.8013\n",
            "Epoch 110/150\n",
            "62/62 [==============================] - 0s 3ms/step - loss: 0.4335 - accuracy: 0.7932\n",
            "Epoch 111/150\n",
            "62/62 [==============================] - 0s 3ms/step - loss: 0.4334 - accuracy: 0.7964\n",
            "Epoch 112/150\n",
            "62/62 [==============================] - 0s 3ms/step - loss: 0.4326 - accuracy: 0.7948\n",
            "Epoch 113/150\n",
            "62/62 [==============================] - 0s 4ms/step - loss: 0.4324 - accuracy: 0.7948\n",
            "Epoch 114/150\n",
            "62/62 [==============================] - 0s 3ms/step - loss: 0.4325 - accuracy: 0.7997\n",
            "Epoch 115/150\n",
            "62/62 [==============================] - 0s 3ms/step - loss: 0.4319 - accuracy: 0.8029\n",
            "Epoch 116/150\n",
            "62/62 [==============================] - 0s 6ms/step - loss: 0.4317 - accuracy: 0.8013\n",
            "Epoch 117/150\n",
            "62/62 [==============================] - 0s 5ms/step - loss: 0.4313 - accuracy: 0.8013\n",
            "Epoch 118/150\n",
            "62/62 [==============================] - 0s 5ms/step - loss: 0.4307 - accuracy: 0.8013\n",
            "Epoch 119/150\n",
            "62/62 [==============================] - 0s 6ms/step - loss: 0.4307 - accuracy: 0.7997\n",
            "Epoch 120/150\n",
            "62/62 [==============================] - 0s 8ms/step - loss: 0.4309 - accuracy: 0.7964\n",
            "Epoch 121/150\n",
            "62/62 [==============================] - 0s 3ms/step - loss: 0.4303 - accuracy: 0.7980\n",
            "Epoch 122/150\n",
            "62/62 [==============================] - 0s 4ms/step - loss: 0.4310 - accuracy: 0.7980\n",
            "Epoch 123/150\n",
            "62/62 [==============================] - 0s 3ms/step - loss: 0.4308 - accuracy: 0.7980\n",
            "Epoch 124/150\n",
            "62/62 [==============================] - 0s 6ms/step - loss: 0.4299 - accuracy: 0.7948\n",
            "Epoch 125/150\n",
            "62/62 [==============================] - 0s 7ms/step - loss: 0.4300 - accuracy: 0.7980\n",
            "Epoch 126/150\n",
            "62/62 [==============================] - 0s 3ms/step - loss: 0.4295 - accuracy: 0.7964\n",
            "Epoch 127/150\n",
            "62/62 [==============================] - 0s 3ms/step - loss: 0.4292 - accuracy: 0.7964\n",
            "Epoch 128/150\n",
            "62/62 [==============================] - 0s 4ms/step - loss: 0.4292 - accuracy: 0.7964\n",
            "Epoch 129/150\n",
            "62/62 [==============================] - 0s 4ms/step - loss: 0.4290 - accuracy: 0.7997\n",
            "Epoch 130/150\n",
            "62/62 [==============================] - 0s 3ms/step - loss: 0.4289 - accuracy: 0.7948\n",
            "Epoch 131/150\n",
            "62/62 [==============================] - 0s 3ms/step - loss: 0.4284 - accuracy: 0.7997\n",
            "Epoch 132/150\n",
            "62/62 [==============================] - 0s 3ms/step - loss: 0.4277 - accuracy: 0.7948\n",
            "Epoch 133/150\n",
            "62/62 [==============================] - 0s 4ms/step - loss: 0.4277 - accuracy: 0.8013\n",
            "Epoch 134/150\n",
            "62/62 [==============================] - 0s 3ms/step - loss: 0.4280 - accuracy: 0.7964\n",
            "Epoch 135/150\n",
            "62/62 [==============================] - 0s 5ms/step - loss: 0.4273 - accuracy: 0.7964\n",
            "Epoch 136/150\n",
            "62/62 [==============================] - 0s 5ms/step - loss: 0.4269 - accuracy: 0.7980\n",
            "Epoch 137/150\n",
            "62/62 [==============================] - 0s 4ms/step - loss: 0.4267 - accuracy: 0.7997\n",
            "Epoch 138/150\n",
            "62/62 [==============================] - 0s 5ms/step - loss: 0.4269 - accuracy: 0.7997\n",
            "Epoch 139/150\n",
            "62/62 [==============================] - 0s 6ms/step - loss: 0.4263 - accuracy: 0.7964\n",
            "Epoch 140/150\n",
            "62/62 [==============================] - 0s 6ms/step - loss: 0.4262 - accuracy: 0.7997\n",
            "Epoch 141/150\n",
            "62/62 [==============================] - 0s 4ms/step - loss: 0.4257 - accuracy: 0.7980\n",
            "Epoch 142/150\n",
            "62/62 [==============================] - 0s 5ms/step - loss: 0.4267 - accuracy: 0.8062\n",
            "Epoch 143/150\n",
            "62/62 [==============================] - 0s 3ms/step - loss: 0.4252 - accuracy: 0.7997\n",
            "Epoch 144/150\n",
            "62/62 [==============================] - 0s 3ms/step - loss: 0.4248 - accuracy: 0.7932\n",
            "Epoch 145/150\n",
            "62/62 [==============================] - 0s 5ms/step - loss: 0.4254 - accuracy: 0.7997\n",
            "Epoch 146/150\n",
            "62/62 [==============================] - 0s 5ms/step - loss: 0.4244 - accuracy: 0.7980\n",
            "Epoch 147/150\n",
            "62/62 [==============================] - 0s 5ms/step - loss: 0.4242 - accuracy: 0.7997\n",
            "Epoch 148/150\n",
            "62/62 [==============================] - 0s 4ms/step - loss: 0.4242 - accuracy: 0.7980\n",
            "Epoch 149/150\n",
            "62/62 [==============================] - 0s 3ms/step - loss: 0.4256 - accuracy: 0.7948\n",
            "Epoch 150/150\n",
            "62/62 [==============================] - 0s 3ms/step - loss: 0.4238 - accuracy: 0.8013\n"
          ]
        }
      ]
    },
    {
      "cell_type": "code",
      "source": [
        "_,accuracy = model.evaluate(X_train, y_train)\n",
        "print(\"Accuracy: \", accuracy) "
      ],
      "metadata": {
        "colab": {
          "base_uri": "https://localhost:8080/"
        },
        "id": "4qqNMig26LKq",
        "outputId": "24820c5a-bd55-46b9-89a9-a49ed8d870f0"
      },
      "execution_count": null,
      "outputs": [
        {
          "output_type": "stream",
          "name": "stdout",
          "text": [
            "20/20 [==============================] - 0s 2ms/step - loss: 0.4214 - accuracy: 0.8013\n",
            "Accuracy:  0.8013029098510742\n"
          ]
        }
      ]
    },
    {
      "cell_type": "code",
      "source": [
        "plt.plot(history.history['accuracy'])\n",
        "plt.title('Accuracy during learning')\n",
        "plt.xlabel('Epoch')\n",
        "plt.ylabel('Accuracy')"
      ],
      "metadata": {
        "colab": {
          "base_uri": "https://localhost:8080/",
          "height": 489
        },
        "id": "tq5j1fS76xAN",
        "outputId": "67800870-240a-43be-ae6e-a7b0cf0ff7b8"
      },
      "execution_count": null,
      "outputs": [
        {
          "output_type": "execute_result",
          "data": {
            "text/plain": [
              "Text(0, 0.5, 'Accuracy')"
            ]
          },
          "metadata": {},
          "execution_count": 35
        },
        {
          "output_type": "display_data",
          "data": {
            "text/plain": [
              "<Figure size 640x480 with 1 Axes>"
            ],
            "image/png": "[encoded data removed]"
          },
          "metadata": {}
        }
      ]
    },
    {
      "cell_type": "code",
      "source": [
        "plt.plot(history.history['loss'])\n",
        "plt.title('Loss during learning')\n",
        "plt.xlabel('Epoch')\n",
        "plt.ylabel('Loss')"
      ],
      "metadata": {
        "colab": {
          "base_uri": "https://localhost:8080/",
          "height": 489
        },
        "id": "t2XuZIF57IER",
        "outputId": "84b00d08-7222-4d38-9b91-cd7f4ac241d2"
      },
      "execution_count": null,
      "outputs": [
        {
          "output_type": "execute_result",
          "data": {
            "text/plain": [
              "Text(0, 0.5, 'Loss')"
            ]
          },
          "metadata": {},
          "execution_count": 36
        },
        {
          "output_type": "display_data",
          "data": {
            "text/plain": [
              "<Figure size 640x480 with 1 Axes>"
            ],
            "image/png": "[encoded data removed]"
          },
          "metadata": {}
        }
      ]
    },
    {
      "cell_type": "markdown",
      "source": [
        "---\n",
        "# Tuning batch-size with cross-validation\n",
        "with the brute force Grid-Search tuning method\n",
        "---"
      ],
      "metadata": {
        "id": "zjMRzXBbjNUY"
      }
    },
    {
      "cell_type": "code",
      "source": [
        "!pip install scikeras"
      ],
      "metadata": {
        "id": "Vkf79QT4poqu"
      },
      "execution_count": null,
      "outputs": []
    },
    {
      "cell_type": "code",
      "source": [
        "from sklearn.model_selection import GridSearchCV\n",
        "from sklearn.model_selection import StratifiedKFold\n",
        "from scikeras.wrappers import KerasClassifier"
      ],
      "metadata": {
        "id": "B6Yvo8NOjvGW"
      },
      "execution_count": null,
      "outputs": []
    },
    {
      "cell_type": "code",
      "source": [
        "#K-Fold Cross Validation\n",
        "batch_sizes = [20, 40, 60, 80, 100]\n",
        "epoch = [10, 50, 100]\n",
        "param_grid_search = {'batch_size': batch_sizes, 'epochs':epoch}\n",
        "\n",
        "estimator_model = KerasClassifier(model=model, verbose=0)\n",
        "\n",
        "kfold = StratifiedKFold(n_splits=5, shuffle=True, random_state=42)\n",
        "\n",
        "grid = GridSearchCV(estimator=estimator_model, param_grid=param_grid_search,cv=kfold, n_jobs=-1)\n",
        "\n",
        "grid_result = grid.fit(X,y)"
      ],
      "metadata": {
        "id": "LztT_htHnHKS"
      },
      "execution_count": null,
      "outputs": []
    },
    {
      "cell_type": "code",
      "source": [
        "mean_scores = grid_result.cv_results_['mean_test_score']\n",
        "batch_sizes_plot = [str(param) for param in grid_result.cv_results_['param_batch_size']]\n",
        "\n",
        "# print(mean_scores)\n",
        "# print(batch_sizes_plot)\n",
        "# Plot accuracy vs. batch size\n",
        "\n",
        "plt.plot(batch_sizes_plot, mean_scores)\n",
        "plt.xlabel('Batch Size')\n",
        "plt.ylabel('Accuracy')\n",
        "plt.title('Accuracy vs. Batch Size')\n",
        "plt.show()\n"
      ],
      "metadata": {
        "colab": {
          "base_uri": "https://localhost:8080/",
          "height": 472
        },
        "id": "cYU1616qrlPY",
        "outputId": "e28693cd-9301-4ab9-f59e-6ab89178b99a"
      },
      "execution_count": null,
      "outputs": [
        {
          "output_type": "display_data",
          "data": {
            "text/plain": [
              "<Figure size 640x480 with 1 Axes>"
            ],
            "image/png": "[encoded data removed]"
          },
          "metadata": {}
        }
      ]
    },
    {
      "cell_type": "code",
      "source": [
        "# Best results\n",
        "print (f'{grid_result.best_score_} using {grid_result.best_params_}')"
      ],
      "metadata": {
        "colab": {
          "base_uri": "https://localhost:8080/"
        },
        "id": "xN9QQnshxlrD",
        "outputId": "42ddf8b1-0731-4c4d-f505-89d4abe1f911"
      },
      "execution_count": null,
      "outputs": [
        {
          "output_type": "stream",
          "name": "stdout",
          "text": [
            "0.6849418555300909 using {'batch_size': 20, 'epochs': 50}\n"
          ]
        }
      ]
    },
    {
      "cell_type": "markdown",
      "source": [
        "---\n",
        "# CNN\n",
        "---\n",
        "Input Layer-> Convolutional Layer-> Activation Layer-> Pooling Layer(reduce volume size)-> Flattening(into 1-D vector)-> Fully Connected layer-> Output"
      ],
      "metadata": {
        "id": "wo1LXmCvyAs9"
      }
    },
    {
      "cell_type": "code",
      "source": [
        "from google.colab import drive\n",
        "drive.mount('/content/gdrive')"
      ],
      "metadata": {
        "colab": {
          "base_uri": "https://localhost:8080/"
        },
        "id": "JilxfvYKs2rO",
        "outputId": "65c57d98-53b8-4fc8-d7ee-f6def3f69244"
      },
      "execution_count": null,
      "outputs": [
        {
          "output_type": "stream",
          "name": "stdout",
          "text": [
            "Mounted at /content/gdrive\n"
          ]
        }
      ]
    },
    {
      "cell_type": "code",
      "source": [
        "import os\n",
        "import random \n",
        "import matplotlib.image as mpimg"
      ],
      "metadata": {
        "id": "-E7BZZsy0gGb"
      },
      "execution_count": null,
      "outputs": []
    },
    {
      "cell_type": "code",
      "source": [
        "path ='/content/gdrive/MyDrive/Assignments/CharacterImageDataset'\n",
        "for i in range(3):\n",
        "  folder_name = random.choice(os.listdir(path))\n",
        "  class_name = random.choice(os.listdir(path + '/' + folder_name))\n",
        "  image_name = random.choice(os.listdir(path + '/' +folder_name + '/' + class_name))\n",
        "\n",
        "  image_path = '/content/gdrive/MyDrive/Assignments/CharacterImageDataset/test/' + class_name + \"/\" + image_name\n",
        "  image = mpimg.imread(image_path)\n",
        "\n",
        "  plt.figure(figsize=(4,4))\n",
        "  plt.imshow(image, cmap='Greys')\n",
        "  plt.axis('off')\n",
        "  plt.show()"
      ],
      "metadata": {
        "colab": {
          "base_uri": "https://localhost:8080/",
          "height": 1000
        },
        "id": "nYxn8Io91Lhb",
        "outputId": "4bda8dde-0e56-4ab0-e975-9f704320f80b"
      },
      "execution_count": null,
      "outputs": [
        {
          "output_type": "display_data",
          "data": {
            "text/plain": [
              "<Figure size 400x400 with 1 Axes>"
            ],
            "image/png": "[encoded data removed]"
          },
          "metadata": {}
        },
        {
          "output_type": "display_data",
          "data": {
            "text/plain": [
              "<Figure size 400x400 with 1 Axes>"
            ],
            "image/png": "[encoded data removed]"
          },
          "metadata": {}
        },
        {
          "output_type": "display_data",
          "data": {
            "text/plain": [
              "<Figure size 400x400 with 1 Axes>"
            ],
            "image/png": "[encoded data removed]"
          },
          "metadata": {}
        }
      ]
    },
    {
      "cell_type": "code",
      "source": [
        "# Create your custom CNN architecture. Decide the number of CONV, POOL, FC layers, and their configurations yourself. Split the data into 80-20 proportions (use “stratified” sampling) for training and testing, use 20% of this training data for validation. Decide any appropriate learning rate, and perform training for a suitable number of epochs. Observe the training performance using learning plots (display them after training, give your comments w.r.t. overfitting and/or underfitting), you should decide the number of epochs based on these learning plots. Evaluate your trained model on the test data. Output precision, recall, F1-score for each class, and also find the average accuracy. \n",
        "\n",
        "import os\n",
        "import cv2\n",
        "import numpy as np\n",
        "import matplotlib.pyplot as plt\n",
        "from sklearn.model_selection import train_test_split\n",
        "from sklearn.metrics import precision_score, recall_score, f1_score, accuracy_score\n",
        "import tensorflow as tf\n",
        "from tensorflow.keras import layers\n",
        "\n",
        "# Define the paths to your Train and Test folders\n",
        "train_folder = '/content/gdrive/MyDrive/Assignments/CharacterImageDataset/train'\n",
        "test_folder = '/content/gdrive/MyDrive/Assignments/CharacterImageDataset/test'\n",
        "\n",
        "# Load the training data\n",
        "X_train = []\n",
        "y_train = []\n",
        "\n",
        "train_folders = os.listdir(train_folder)\n",
        "for label, folder in enumerate(train_folders):\n",
        "    folder_path = os.path.join(train_folder, folder)\n",
        "    for image_file in os.listdir(folder_path):\n",
        "        image_path = os.path.join(folder_path, image_file)\n",
        "        image = cv2.imread(image_path)\n",
        "        image = cv2.cvtColor(image, cv2.COLOR_BGR2RGB)\n",
        "        X_train.append(image)\n",
        "        y_train.append(label)\n",
        "\n",
        "# Load the test data\n",
        "X_test = []\n",
        "y_test = []\n",
        "\n",
        "test_folders = os.listdir(test_folder)\n",
        "for label, folder in enumerate(test_folders):\n",
        "    folder_path = os.path.join(test_folder, folder)\n",
        "    for image_file in os.listdir(folder_path):\n",
        "        image_path = os.path.join(folder_path, image_file)\n",
        "        image = cv2.imread(image_path)\n",
        "        image = cv2.cvtColor(image, cv2.COLOR_BGR2RGB)\n",
        "        X_test.append(image)\n",
        "        y_test.append(label)\n",
        "\n",
        "# Convert the lists to numpy arrays\n",
        "X_train = np.array(X_train)\n",
        "y_train = np.array(y_train)\n",
        "X_test = np.array(X_test)\n",
        "y_test = np.array(y_test)\n",
        "\n",
        "\n",
        "# Split data into train and validation sets\n",
        "X_train, X_val, y_train, y_val = train_test_split(X_train, y_train, test_size=0.2, stratify=y_train, random_state=42)\n",
        "\n",
        "# Define your custom CNN model\n",
        "model = tf.keras.Sequential([\n",
        "    # Convolutional layers\n",
        "    layers.Conv2D(32, (3, 3), activation='relu', input_shape=(32, 32, 3)),\n",
        "    layers.MaxPooling2D((2, 2)),\n",
        "    layers.Conv2D(64, (3, 3), activation='relu'),\n",
        "    layers.MaxPooling2D((2, 2)),\n",
        "    # Add more convolutional and pooling layers as needed\n",
        "    \n",
        "    # Flatten the feature maps\n",
        "    layers.Flatten(),\n",
        "    \n",
        "    # Fully connected layers\n",
        "    layers.Dense(64, activation='relu'),\n",
        "    layers.Dense(10, activation='softmax')  # Output layer with 10 classes (assuming 10 classes in the dataset)\n",
        "])\n",
        "\n",
        "# Compile the model\n",
        "model.compile(optimizer='adam',\n",
        "              loss='sparse_categorical_crossentropy',\n",
        "              metrics=['accuracy'])\n",
        "\n",
        "# Train the model\n",
        "history = model.fit(X_train, y_train, epochs=10, batch_size=32, validation_data=(X_val, y_val))\n",
        "\n",
        "# Plot the learning curves\n",
        "plt.plot(history.history['accuracy'], label='Training Accuracy')\n",
        "plt.plot(history.history['val_accuracy'], label='Validation Accuracy')\n",
        "plt.xlabel('Epoch')\n",
        "plt.ylabel('Accuracy')\n",
        "plt.legend()\n",
        "plt.show()\n",
        "\n",
        "# Evaluate the model on the test data\n",
        "loss, accuracy = model.evaluate(X_test, y_test)\n",
        "\n",
        "# Make predictions on the test data\n",
        "y_pred = model.predict(X_test)\n",
        "y_pred_labels = np.argmax(y_pred, axis=1)\n",
        "\n",
        "# Calculate precision, recall, F1-score for each class\n",
        "precision = precision_score(y_test, y_pred_labels, average=None)\n",
        "recall = recall_score(y_test, y_pred_labels, average=None)\n",
        "f1score = f1_score(y_test, y_pred_labels, average=None)\n",
        "\n",
        "# Calculate average accuracy\n",
        "average_accuracy = accuracy_score(y_test, y_pred_labels)\n",
        "\n",
        "# Print the performance metrics\n",
        "print(f\"Precision: {precision}\")\n",
        "print(f\"Recall: {recall}\")\n",
        "print(f\"F1-Score: {f1score}\")\n",
        "print(f\"Average Accuracy: {average_accuracy}\")\n",
        "#accuracy is low due to a small data for training"
      ],
      "metadata": {
        "colab": {
          "base_uri": "https://localhost:8080/",
          "height": 935
        },
        "id": "OEid8PY88abQ",
        "outputId": "1c80097f-a022-4d64-942e-146c958f81dd"
      },
      "execution_count": null,
      "outputs": [
        {
          "output_type": "stream",
          "name": "stdout",
          "text": [
            "Epoch 1/10\n",
            "25/25 [==============================] - 3s 66ms/step - loss: 16.4828 - accuracy: 0.3425 - val_loss: 1.6215 - val_accuracy: 0.5750\n",
            "Epoch 2/10\n",
            "25/25 [==============================] - 1s 46ms/step - loss: 0.9975 - accuracy: 0.6637 - val_loss: 0.7585 - val_accuracy: 0.7400\n",
            "Epoch 3/10\n",
            "25/25 [==============================] - 1s 58ms/step - loss: 0.4743 - accuracy: 0.8487 - val_loss: 0.5274 - val_accuracy: 0.8250\n",
            "Epoch 4/10\n",
            "25/25 [==============================] - 2s 84ms/step - loss: 0.2347 - accuracy: 0.9162 - val_loss: 0.3556 - val_accuracy: 0.8600\n",
            "Epoch 5/10\n",
            "25/25 [==============================] - 2s 85ms/step - loss: 0.1225 - accuracy: 0.9712 - val_loss: 0.3021 - val_accuracy: 0.8750\n",
            "Epoch 6/10\n",
            "25/25 [==============================] - 1s 46ms/step - loss: 0.0613 - accuracy: 0.9837 - val_loss: 0.2905 - val_accuracy: 0.9050\n",
            "Epoch 7/10\n",
            "25/25 [==============================] - 1s 45ms/step - loss: 0.0366 - accuracy: 0.9962 - val_loss: 0.3172 - val_accuracy: 0.9100\n",
            "Epoch 8/10\n",
            "25/25 [==============================] - 1s 48ms/step - loss: 0.0228 - accuracy: 0.9962 - val_loss: 0.3053 - val_accuracy: 0.9200\n",
            "Epoch 9/10\n",
            "25/25 [==============================] - 1s 48ms/step - loss: 0.0175 - accuracy: 0.9987 - val_loss: 0.2805 - val_accuracy: 0.9300\n",
            "Epoch 10/10\n",
            "25/25 [==============================] - 1s 45ms/step - loss: 0.0121 - accuracy: 1.0000 - val_loss: 0.2814 - val_accuracy: 0.9300\n"
          ]
        },
        {
          "output_type": "display_data",
          "data": {
            "text/plain": [
              "<Figure size 640x480 with 1 Axes>"
            ],
            "image/png": "[encoded data removed]"
          },
          "metadata": {}
        },
        {
          "output_type": "stream",
          "name": "stdout",
          "text": [
            "32/32 [==============================] - 0s 13ms/step - loss: 8.6467 - accuracy: 0.1710\n",
            "32/32 [==============================] - 1s 13ms/step\n",
            "Precision: [0.89552239 0.03030303 0.         0.         0.00952381 0.07142857\n",
            " 0.04081633 0.41891892 0.05109489 0.        ]\n",
            "Recall: [0.6  0.03 0.   0.   0.01 0.03 0.04 0.93 0.07 0.  ]\n",
            "F1-Score: [0.71856287 0.03015075 0.         0.         0.0097561  0.04225352\n",
            " 0.04040404 0.57763975 0.05907173 0.        ]\n",
            "Average Accuracy: 0.171\n"
          ]
        }
      ]
    },
    {
      "cell_type": "markdown",
      "source": [
        "---\n",
        "# RNN\n",
        "---\n",
        "RNN :- current state = f(previous state, input)\n",
        "\n",
        "LSTM: Long Short-Term Memory to retain info for long period of time."
      ],
      "metadata": {
        "id": "aYbTQWI92F14"
      }
    },
    {
      "cell_type": "code",
      "source": [
        "df_text = pd.read_csv('/content/a2_text - a2_text.csv')"
      ],
      "metadata": {
        "id": "8z8g1pPw39FZ"
      },
      "execution_count": null,
      "outputs": []
    },
    {
      "cell_type": "code",
      "source": [
        "df_text.head()"
      ],
      "metadata": {
        "colab": {
          "base_uri": "https://localhost:8080/",
          "height": 206
        },
        "id": "rmboZZcIAK2z",
        "outputId": "19d7ca05-e32c-41fe-811b-d4e5a56cd857"
      },
      "execution_count": null,
      "outputs": [
        {
          "output_type": "execute_result",
          "data": {
            "text/plain": [
              "     tweet_id   sentiment       author  \\\n",
              "0  1956967341       empty   xoshayzers   \n",
              "1  1956967666     sadness    wannamama   \n",
              "2  1956967696     sadness    coolfunky   \n",
              "3  1956967789  enthusiasm  czareaquino   \n",
              "4  1956968416     neutral    xkilljoyx   \n",
              "\n",
              "                                             content  \n",
              "0  @tiffanylue i know  i was listenin to bad habi...  \n",
              "1  Layin n bed with a headache  ughhhh...waitin o...  \n",
              "2                Funeral ceremony...gloomy friday...  \n",
              "3               wants to hang out with friends SOON!  \n",
              "4  @dannycastillo We want to trade with someone w...  "
            ],
            "text/html": [
              "\n",
              "  <div id=\"df-0f1b1c36-9364-45fc-9341-de79fa85da5a\">\n",
              "    <div class=\"colab-df-container\">\n",
              "      <div>\n",
              "<style scoped>\n",
              "    .dataframe tbody tr th:only-of-type {\n",
              "        vertical-align: middle;\n",
              "    }\n",
              "\n",
              "    .dataframe tbody tr th {\n",
              "        vertical-align: top;\n",
              "    }\n",
              "\n",
              "    .dataframe thead th {\n",
              "        text-align: right;\n",
              "    }\n",
              "</style>\n",
              "<table border=\"1\" class=\"dataframe\">\n",
              "  <thead>\n",
              "    <tr style=\"text-align: right;\">\n",
              "      <th></th>\n",
              "      <th>tweet_id</th>\n",
              "      <th>sentiment</th>\n",
              "      <th>author</th>\n",
              "      <th>content</th>\n",
              "    </tr>\n",
              "  </thead>\n",
              "  <tbody>\n",
              "    <tr>\n",
              "      <th>0</th>\n",
              "      <td>1956967341</td>\n",
              "      <td>empty</td>\n",
              "      <td>xoshayzers</td>\n",
              "      <td>@tiffanylue i know  i was listenin to bad habi...</td>\n",
              "    </tr>\n",
              "    <tr>\n",
              "      <th>1</th>\n",
              "      <td>1956967666</td>\n",
              "      <td>sadness</td>\n",
              "      <td>wannamama</td>\n",
              "      <td>Layin n bed with a headache  ughhhh...waitin o...</td>\n",
              "    </tr>\n",
              "    <tr>\n",
              "      <th>2</th>\n",
              "      <td>1956967696</td>\n",
              "      <td>sadness</td>\n",
              "      <td>coolfunky</td>\n",
              "      <td>Funeral ceremony...gloomy friday...</td>\n",
              "    </tr>\n",
              "    <tr>\n",
              "      <th>3</th>\n",
              "      <td>1956967789</td>\n",
              "      <td>enthusiasm</td>\n",
              "      <td>czareaquino</td>\n",
              "      <td>wants to hang out with friends SOON!</td>\n",
              "    </tr>\n",
              "    <tr>\n",
              "      <th>4</th>\n",
              "      <td>1956968416</td>\n",
              "      <td>neutral</td>\n",
              "      <td>xkilljoyx</td>\n",
              "      <td>@dannycastillo We want to trade with someone w...</td>\n",
              "    </tr>\n",
              "  </tbody>\n",
              "</table>\n",
              "</div>\n",
              "      <button class=\"colab-df-convert\" onclick=\"convertToInteractive('df-0f1b1c36-9364-45fc-9341-de79fa85da5a')\"\n",
              "              title=\"Convert this dataframe to an interactive table.\"\n",
              "              style=\"display:none;\">\n",
              "        \n",
              "  <svg xmlns=\"http://www.w3.org/2000/svg\" height=\"24px\"viewBox=\"0 0 24 24\"\n",
              "       width=\"24px\">\n",
              "    <path d=\"M0 0h24v24H0V0z\" fill=\"none\"/>\n",
              "    <path d=\"M18.56 5.44l.94 2.06.94-2.06 2.06-.94-2.06-.94-.94-2.06-.94 2.06-2.06.94zm-11 1L8.5 8.5l.94-2.06 2.06-.94-2.06-.94L8.5 2.5l-.94 2.06-2.06.94zm10 10l.94 2.06.94-2.06 2.06-.94-2.06-.94-.94-2.06-.94 2.06-2.06.94z\"/><path d=\"M17.41 7.96l-1.37-1.37c-.4-.4-.92-.59-1.43-.59-.52 0-1.04.2-1.43.59L10.3 9.45l-7.72 7.72c-.78.78-.78 2.05 0 2.83L4 21.41c.39.39.9.59 1.41.59.51 0 1.02-.2 1.41-.59l7.78-7.78 2.81-2.81c.8-.78.8-2.07 0-2.86zM5.41 20L4 18.59l7.72-7.72 1.47 1.35L5.41 20z\"/>\n",
              "  </svg>\n",
              "      </button>\n",
              "      \n",
              "  <style>\n",
              "    .colab-df-container {\n",
              "      display:flex;\n",
              "      flex-wrap:wrap;\n",
              "      gap: 12px;\n",
              "    }\n",
              "\n",
              "    .colab-df-convert {\n",
              "      background-color: #E8F0FE;\n",
              "      border: none;\n",
              "      border-radius: 50%;\n",
              "      cursor: pointer;\n",
              "      display: none;\n",
              "      fill: #1967D2;\n",
              "      height: 32px;\n",
              "      padding: 0 0 0 0;\n",
              "      width: 32px;\n",
              "    }\n",
              "\n",
              "    .colab-df-convert:hover {\n",
              "      background-color: #E2EBFA;\n",
              "      box-shadow: 0px 1px 2px rgba(60, 64, 67, 0.3), 0px 1px 3px 1px rgba(60, 64, 67, 0.15);\n",
              "      fill: #174EA6;\n",
              "    }\n",
              "\n",
              "    [theme=dark] .colab-df-convert {\n",
              "      background-color: #3B4455;\n",
              "      fill: #D2E3FC;\n",
              "    }\n",
              "\n",
              "    [theme=dark] .colab-df-convert:hover {\n",
              "      background-color: #434B5C;\n",
              "      box-shadow: 0px 1px 3px 1px rgba(0, 0, 0, 0.15);\n",
              "      filter: drop-shadow(0px 1px 2px rgba(0, 0, 0, 0.3));\n",
              "      fill: #FFFFFF;\n",
              "    }\n",
              "  </style>\n",
              "\n",
              "      <script>\n",
              "        const buttonEl =\n",
              "          document.querySelector('#df-0f1b1c36-9364-45fc-9341-de79fa85da5a button.colab-df-convert');\n",
              "        buttonEl.style.display =\n",
              "          google.colab.kernel.accessAllowed ? 'block' : 'none';\n",
              "\n",
              "        async function convertToInteractive(key) {\n",
              "          const element = document.querySelector('#df-0f1b1c36-9364-45fc-9341-de79fa85da5a');\n",
              "          const dataTable =\n",
              "            await google.colab.kernel.invokeFunction('convertToInteractive',\n",
              "                                                     [key], {});\n",
              "          if (!dataTable) return;\n",
              "\n",
              "          const docLinkHtml = 'Like what you see? Visit the ' +\n",
              "            '<a target=\"_blank\" href=https://colab.research.google.com/notebooks/data_table.ipynb>data table notebook</a>'\n",
              "            + ' to learn more about interactive tables.';\n",
              "          element.innerHTML = '';\n",
              "          dataTable['output_type'] = 'display_data';\n",
              "          await google.colab.output.renderOutput(dataTable, element);\n",
              "          const docLink = document.createElement('div');\n",
              "          docLink.innerHTML = docLinkHtml;\n",
              "          element.appendChild(docLink);\n",
              "        }\n",
              "      </script>\n",
              "    </div>\n",
              "  </div>\n",
              "  "
            ]
          },
          "metadata": {},
          "execution_count": 127
        }
      ]
    },
    {
      "cell_type": "code",
      "source": [
        "from keras.preprocessing.text import Tokenizer\n",
        "from keras.utils import pad_sequences"
      ],
      "metadata": {
        "id": "9V9QgKVqA4pz"
      },
      "execution_count": null,
      "outputs": []
    },
    {
      "cell_type": "code",
      "source": [
        "tokenizer = Tokenizer()\n",
        "tokenizer.fit_on_texts(df_text['content'])"
      ],
      "metadata": {
        "id": "Cz86a3FID0x3"
      },
      "execution_count": null,
      "outputs": []
    },
    {
      "cell_type": "code",
      "source": [
        "sequence = tokenizer.texts_to_sequences(df_text['content'])\n",
        "max_len = max([len(seq) for seq in sequence])\n"
      ],
      "metadata": {
        "id": "VLPYY27VECfy"
      },
      "execution_count": null,
      "outputs": []
    },
    {
      "cell_type": "code",
      "source": [
        "idx = tokenizer.word_index\n",
        "vocab = len(idx) + 1"
      ],
      "metadata": {
        "id": "9ZDUM-2l7Key"
      },
      "execution_count": null,
      "outputs": []
    },
    {
      "cell_type": "code",
      "source": [
        "data = pad_sequences(sequence, maxlen=max_len)\n",
        "\n",
        "target = pd.get_dummies(df_text['sentiment'])"
      ],
      "metadata": {
        "id": "zLQAiOgfFjTq"
      },
      "execution_count": null,
      "outputs": []
    },
    {
      "cell_type": "code",
      "source": [
        "X_train, X_test, y_train, y_test = train_test_split(data, target, test_size=0.2)\n",
        "\n",
        "\n",
        "vocab = len(idx) + 1\n",
        "\n",
        "model = Sequential()\n",
        "model.add(Embedding(vocab, 100, input_length=max_len))\n",
        "model.add(LSTM(128, dropout=0.2, recurrent_dropout=0.2))\n",
        "model.add(Dense(target.shape[1], activation='softmax'))\n",
        "\n",
        "model.compile(loss='categorical_crossentropy', optimizer='adam', metrics=['accuracy'])\n",
        "model.fit(X_train, y_train, epochs=10, batch_size=32)\n",
        "\n",
        "loss, accuracy = model.evaluate(X_test, y_test)\n",
        "print(\"Loss:\", loss)\n",
        "print(\"Accuracy:\", accuracy)"
      ],
      "metadata": {
        "colab": {
          "base_uri": "https://localhost:8080/"
        },
        "id": "9KetbsQG3cX9",
        "outputId": "54464922-3694-4d1f-8de1-29b52cf05cce"
      },
      "execution_count": null,
      "outputs": [
        {
          "output_type": "stream",
          "name": "stdout",
          "text": [
            "Epoch 1/10\n",
            "1000/1000 [==============================] - 180s 177ms/step - loss: 2.0142 - accuracy: 0.3002\n",
            "Epoch 2/10\n",
            "1000/1000 [==============================] - 176s 176ms/step - loss: 1.7101 - accuracy: 0.4173\n",
            "Epoch 3/10\n",
            "1000/1000 [==============================] - 174s 174ms/step - loss: 1.2677 - accuracy: 0.5825\n",
            "Epoch 4/10\n",
            "1000/1000 [==============================] - 173s 173ms/step - loss: 0.8290 - accuracy: 0.7381\n",
            "Epoch 5/10\n",
            "1000/1000 [==============================] - 173s 173ms/step - loss: 0.5534 - accuracy: 0.8272\n",
            "Epoch 6/10\n",
            "1000/1000 [==============================] - 173s 173ms/step - loss: 0.3974 - accuracy: 0.8726\n",
            "Epoch 7/10\n",
            "1000/1000 [==============================] - 175s 175ms/step - loss: 0.3024 - accuracy: 0.9029\n",
            "Epoch 8/10\n",
            "1000/1000 [==============================] - 175s 175ms/step - loss: 0.2404 - accuracy: 0.9218\n",
            "Epoch 9/10\n",
            "1000/1000 [==============================] - 174s 174ms/step - loss: 0.2034 - accuracy: 0.9332\n",
            "Epoch 10/10\n",
            "1000/1000 [==============================] - 169s 169ms/step - loss: 0.1738 - accuracy: 0.9430\n",
            "250/250 [==============================] - 6s 21ms/step - loss: 4.1724 - accuracy: 0.2575\n",
            "Loss: 4.1724443435668945\n",
            "Accuracy: 0.2574999928474426\n"
          ]
        }
      ]
    },
    {
      "cell_type": "code",
      "source": [
        "# --- Comparing 2 differing configurations ----\n",
        "\n",
        "from sklearn.preprocessing import LabelEncoder\n",
        "\n",
        "X = df_text['content'].values\n",
        "y = df_text['sentiment'].values\n",
        "\n",
        "# Split the data into training and test sets\n",
        "X_train, X_test, y_train, y_test = train_test_split(X, y, test_size=0.2, random_state=42)\n",
        "\n",
        "\n",
        "# Convert the labels to numerical values\n",
        "label_encoder = LabelEncoder()\n",
        "y_train = label_encoder.fit_transform(y_train)\n",
        "y_test = label_encoder.transform(y_test)\n"
      ],
      "metadata": {
        "id": "5Lx-fNm3N9tY"
      },
      "execution_count": null,
      "outputs": []
    },
    {
      "cell_type": "code",
      "source": [
        "tokenizer = Tokenizer()\n",
        "tokenizer.fit_on_texts(X_train)\n",
        "X_train_seq = tokenizer.texts_to_sequences(X_train)\n",
        "X_test_seq = tokenizer.texts_to_sequences(X_test)\n",
        "\n",
        "# Get the vocabulary size\n",
        "vocab = len(tokenizer.word_index) + 1\n",
        "\n",
        "# Pad sequences to make the same length\n",
        "max_len = max(len(seq) for seq in X_train_seq + X_test_seq)\n",
        "X_train_padded = pad_sequences(X_train_seq, maxlen=max_len)\n",
        "X_test_padded = pad_sequences(X_test_seq, maxlen=max_len)\n"
      ],
      "metadata": {
        "id": "HLISfTz5OSY4"
      },
      "execution_count": null,
      "outputs": []
    },
    {
      "cell_type": "code",
      "source": [
        "configs = [\n",
        "    {'hidden_layers': 1, 'lstm_units': 25},\n",
        "    {'hidden_layers': 2, 'lstm_units': 50}\n",
        "]\n",
        "\n",
        "\n",
        "histories = []\n",
        "for config in configs:\n",
        "    # Define the LSTM model\n",
        "    model = Sequential()\n",
        "    model.add(Embedding(input_dim=vocab, output_dim=100, input_length=max_len))\n",
        "    for _ in range(config['hidden_layers']):\n",
        "        model.add(LSTM(units=config['lstm_units'], return_sequences=True))\n",
        "    model.add(LSTM(units=config['lstm_units']))\n",
        "    model.add(Dense(units=1, activation='sigmoid'))\n",
        "    model.compile(optimizer='adam', loss='binary_crossentropy', metrics=['accuracy'])\n",
        "    \n",
        "    # Reshape input data\n",
        "    X_train_padded_reshaped = X_train_padded.reshape((X_train_padded.shape[0], X_train_padded.shape[1], 1))\n",
        "    X_test_padded_reshaped = X_test_padded.reshape((X_test_padded.shape[0], X_test_padded.shape[1], 1))\n",
        "    \n",
        "    # Train the model\n",
        "    history = model.fit(X_train_padded_reshaped, y_train, validation_data=(X_test_padded_reshaped, y_test), epochs=10, batch_size=32, verbose=0)\n",
        "    histories.append(history)\n",
        "\n"
      ],
      "metadata": {
        "id": "AGz2cwrVPBEa"
      },
      "execution_count": null,
      "outputs": []
    },
    {
      "cell_type": "code",
      "source": [
        "plt.figure(figsize=(10, 6))\n",
        "for i, history in enumerate(histories):\n",
        "    plt.plot(history.history['accuracy'], label=f'Config {i+1}')\n",
        "\n",
        "plt.title('Accuracy for Different LSTM Configurations')\n",
        "plt.xlabel('Epoch')\n",
        "plt.ylabel('Accuracy')\n",
        "\n",
        "plt.legend()\n",
        "plt.show()\n"
      ],
      "metadata": {
        "id": "ryE9JUQtWZ9T"
      },
      "execution_count": null,
      "outputs": []
    }
  ]
}