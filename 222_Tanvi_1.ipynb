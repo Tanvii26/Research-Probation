{
  "nbformat": 4,
  "nbformat_minor": 0,
  "metadata": {
    "colab": {
      "provenance": [],
      "include_colab_link": true
    },
    "kernelspec": {
      "name": "python3",
      "display_name": "Python 3"
    },
    "language_info": {
      "name": "python"
    }
  },
  "cells": [
    {
      "cell_type": "markdown",
      "metadata": {
        "id": "view-in-github",
        "colab_type": "text"
      },
      "source": [
        "<a href=\"https://colab.research.google.com/github/Tanvii26/Research-Probation/blob/main/222_Tanvi_1.ipynb\" target=\"_parent\"><img src=\"https://colab.research.google.com/assets/colab-badge.svg\" alt=\"Open In Colab\"/></a>"
      ]
    },
    {
      "cell_type": "code",
      "source": [
        "import numpy as np\n",
        "import pandas as pd"
      ],
      "metadata": {
        "id": "Q4voac5jH3X9"
      },
      "execution_count": null,
      "outputs": []
    },
    {
      "cell_type": "markdown",
      "source": [
        "1. Program to find the sum of first 'N' natural numbers"
      ],
      "metadata": {
        "id": "AS33ps6AtXAy"
      }
    },
    {
      "cell_type": "code",
      "execution_count": null,
      "metadata": {
        "id": "OaHKEuKitSG4"
      },
      "outputs": [],
      "source": [
        "'''\n",
        "Write a python program to find the sum of first N natural numbers, take N as input from\n",
        "the user.\n",
        "'''\n",
        "def sum(n):\n",
        "  tot=0\n",
        "  for x in range(n+1):\n",
        "    tot = tot + x\n",
        "  return tot"
      ]
    },
    {
      "cell_type": "code",
      "source": [
        "n = int(input(\"Enter value of N \")) #sum using loop\n",
        "ans = sum(n)\n",
        "print(f\"Sum of first {n} numbers = {ans}\")"
      ],
      "metadata": {
        "colab": {
          "base_uri": "https://localhost:8080/"
        },
        "id": "R6F1sSiLtwTq",
        "outputId": "614b2928-213d-47a3-cdde-cc73f1de8450"
      },
      "execution_count": null,
      "outputs": [
        {
          "output_type": "stream",
          "name": "stdout",
          "text": [
            "Enter value of N 5\n",
            "Sum of first 5 numbers = 15\n"
          ]
        }
      ]
    },
    {
      "cell_type": "markdown",
      "source": [
        " \n",
        " ----"
      ],
      "metadata": {
        "id": "rDOHKxxPAB8v"
      }
    },
    {
      "cell_type": "markdown",
      "source": [
        "2. Program to check if two numbers are friendly pairs or not"
      ],
      "metadata": {
        "id": "UJ310QOOAD4o"
      }
    },
    {
      "cell_type": "code",
      "source": [
        "'''\n",
        "Write a python program to input two numbers, and output if they are a friendly pair or\n",
        "not.\n",
        "'''\n",
        "def div(n):\n",
        "  sum=0\n",
        "  for x in range (1,n):\n",
        "    if(n%x == 0):\n",
        "      sum += x\n",
        "  return sum"
      ],
      "metadata": {
        "id": "yolLyVqgASZT"
      },
      "execution_count": null,
      "outputs": []
    },
    {
      "cell_type": "code",
      "source": [
        "n1 = int(input(\"Enter first number: \"))\n",
        "n2 = int(input(\"Enter second number: \"))\n",
        "\n",
        "if((div(n1)/n1) and (div(n2)/n2)):\n",
        "  print(f\"{n1} and {n2} are a friendly pair\")\n",
        "else:\n",
        "  print(\"Not a friendly pair\")"
      ],
      "metadata": {
        "colab": {
          "base_uri": "https://localhost:8080/"
        },
        "id": "GOg067AuAtZF",
        "outputId": "aae7c560-590d-4576-f2fa-99e80dea1dd7"
      },
      "execution_count": null,
      "outputs": [
        {
          "output_type": "stream",
          "name": "stdout",
          "text": [
            "Enter first number: 6\n",
            "Enter second number: 28\n",
            "6 and 28 are a friendly pair\n"
          ]
        }
      ]
    },
    {
      "cell_type": "markdown",
      "source": [
        "\n",
        "\n",
        "---\n",
        "\n"
      ],
      "metadata": {
        "id": "KbSEpaxnCJc2"
      }
    },
    {
      "cell_type": "markdown",
      "source": [
        "3. Check if 2 lists input by user are sorted and merge the two"
      ],
      "metadata": {
        "id": "HfM6dommCLXL"
      }
    },
    {
      "cell_type": "code",
      "source": [
        "'''\n",
        "Write a python program to merge two sorted linked lists. First also check whether the\n",
        "input lists are sorted or not. Solve by creating a function which takes two lists as input\n",
        "and returns an output list.\n",
        "'''\n",
        "class Node:\n",
        "  def __init__(self,data=None,next=None):\n",
        "    self.data=data\n",
        "    self.next=next\n",
        "\n",
        "class LinkedList:\n",
        "  def __init__(self):  \n",
        "    self.head = None\n",
        "  def insert(self,data):\n",
        "    newNode=Node(data)\n",
        "    if(self.head):\n",
        "      curr=self.head\n",
        "      while(curr.next):\n",
        "        curr=curr.next;\n",
        "      curr.next=newNode\n",
        "    else:\n",
        "      self.head=newNode\n",
        "\n",
        "  def printLL(self):\n",
        "    curr=self.head\n",
        "    while(curr):\n",
        "      print(curr.data)\n",
        "      curr=curr.next\n",
        "\n",
        "\n",
        "def mergeLL(l1,l2): # merge  sorted Linked List\n",
        "    h=temp=Node()\n",
        "    while l1 or l2:\n",
        "      if l1 and(not l2 or l1.data<=l2.data):\n",
        "        temp.next=Node(l1.data)\n",
        "        l1=l1.next\n",
        "      else:\n",
        "        temp.next=Node(l2.data)\n",
        "        l2=l2.next\n",
        "      temp=temp.next\n",
        "    return h.next\n",
        "\n",
        "\n",
        "def sorted(l1): #  check if a given Linked List is sorted or not\n",
        "  h=l1.head\n",
        "  prev=l1.head\n",
        "  while(h):\n",
        "      if(prev!=h):\n",
        "        if(prev.data>h.data):\n",
        "          return 0\n",
        "      prev=h\n",
        "      h=h.next\n",
        "  return 1\n"
      ],
      "metadata": {
        "id": "2l5c5rLaVG_2"
      },
      "execution_count": null,
      "outputs": []
    },
    {
      "cell_type": "code",
      "source": [
        "L1=LinkedList()\n",
        "l=int(input(\"Enter no of elements in first list \"))\n",
        "for i in range(0,l):\n",
        "  b=int(input(\"Enter the no. \"))\n",
        "  L1.insert(b)\n",
        "\n",
        "L2=LinkedList()\n",
        "l=int(input(\"Enter no of elements in second  list \"))\n",
        "for i in range(0,l):\n",
        "  b=int(input(\"Enter the no. \"))\n",
        "  L2.insert(b)\n",
        "\n",
        "if(sorted(L1)==0 or sorted(L2)==0):\n",
        "  print(\"Unsorted Linked List found \")\n",
        "else:\n",
        "  L3=LinkedList()\n",
        "  L3.head=mergeLL(L1.head, L2.head)\n",
        "  L3.printLL()\n",
        "\n"
      ],
      "metadata": {
        "id": "qh7LYeAPzaMP"
      },
      "execution_count": null,
      "outputs": []
    },
    {
      "cell_type": "markdown",
      "source": [
        "\n",
        "\n",
        "---\n",
        "\n"
      ],
      "metadata": {
        "id": "pp6Sw5ujPYyO"
      }
    },
    {
      "cell_type": "markdown",
      "source": [
        "4. Operator overloading based on the data type of input and exception handling for TypeError due to incompatible data types"
      ],
      "metadata": {
        "id": "DGYXoilZPaOX"
      }
    },
    {
      "cell_type": "code",
      "source": [
        "'''\n",
        "Write a python program that takes as input two data items, and an operator symbol as\n",
        "input. Possible operator symbols are: +, *, /, and **. Data items can be numeric or strings\n",
        "or a combination of them. Output the result, if there is an error, handle it with exception\n",
        "handling.\n",
        "'''\n",
        "def calc(item1,item2,op):\n",
        "  match(op):\n",
        "    case '+' : return (item1 + item2)\n",
        "    case '/' : return (item1/item2)\n",
        "    case '**': return (item1**item2)\n",
        "    case '*' : return (item1 * int(item2))\n"
      ],
      "metadata": {
        "id": "TInzdsugdu_n"
      },
      "execution_count": null,
      "outputs": []
    },
    {
      "cell_type": "code",
      "source": [
        "item1 = input(\"Enter first item: \")\n",
        "item2 = input(\"Enter second item: \")\n",
        "op = input(\"Enter the operator: \")\n",
        "ans\n",
        "try:\n",
        "  if item1.isnumeric() and item2.isnumeric():\n",
        "    ans = calc(int(item1),int(item2),op)\n",
        "  else:\n",
        "    ans = calc(item1,item2,op)\n",
        "  print(f\"{item1} {op} {item2} = {ans}\")\n",
        "except TypeError:\n",
        "  print(\"Operation not possible with strings\")\n",
        "except Exception as ex:\n",
        "  print(ex)\n",
        "  "
      ],
      "metadata": {
        "colab": {
          "base_uri": "https://localhost:8080/"
        },
        "id": "wdWke9qIewbh",
        "outputId": "ad46a2c5-6bf2-4fd2-9acf-b6f234fca4a8"
      },
      "execution_count": null,
      "outputs": [
        {
          "output_type": "stream",
          "name": "stdout",
          "text": [
            "Enter first item: abc \n",
            "Enter second item: 2\n",
            "Enter the operator: *\n",
            "abc  * 2 = abc abc \n"
          ]
        }
      ]
    },
    {
      "cell_type": "markdown",
      "source": [
        "\n",
        "\n",
        "---\n",
        "\n"
      ],
      "metadata": {
        "id": "YeCgdAJil4nw"
      }
    },
    {
      "cell_type": "markdown",
      "source": [
        "5. Finding the occurence of a string in a sentence"
      ],
      "metadata": {
        "id": "xC_29gzzl5cl"
      }
    },
    {
      "cell_type": "code",
      "source": [
        "'''\n",
        "Write a program that takes as input a long sentence, and a string. Your program should\n",
        "output a dictionary object containing the first key as ‘count’ and second key as\n",
        "‘positions’. Value of ‘count’ key should be equal to the number of times the string has\n",
        "appeared in the long sentence, and the value of ‘positions’ key should be equal to the list\n",
        "of indices at which the string is present in the long sentence. Save the output of the\n",
        "dictionary to an external file.\n",
        "'''\n",
        "sent = input(\"Enter your sentence \")\n",
        "st = input(\"Enter the string \")\n",
        "\n",
        "res = {}\n",
        "cnt = 0\n",
        "lst=[]\n",
        "\n",
        "for i in range(len(sent)):\n",
        "  if sent.startswith(st,i):\n",
        "    cnt += 1\n",
        "    lst.append(i)\n",
        "\n",
        "res['count'] = cnt\n",
        "res['positions'] = lst\n",
        "\n",
        "print(res)"
      ],
      "metadata": {
        "colab": {
          "base_uri": "https://localhost:8080/"
        },
        "id": "DRcIwmpimJEv",
        "outputId": "66b296de-1fb8-43d3-e2d1-5893cff06293"
      },
      "execution_count": null,
      "outputs": [
        {
          "output_type": "stream",
          "name": "stdout",
          "text": [
            "Enter your sentence Today is a good day\n",
            "Enter the string day\n",
            "{'count': 2, 'positions': [2, 16]}\n"
          ]
        }
      ]
    },
    {
      "cell_type": "code",
      "source": [
        "from google.colab import drive\n",
        "drive.mount ('/content/drive', force_remount=True)"
      ],
      "metadata": {
        "colab": {
          "base_uri": "https://localhost:8080/"
        },
        "id": "KQQ9zl2ZrdY4",
        "outputId": "581294e1-1332-4f99-ce50-b03ee24570c0"
      },
      "execution_count": null,
      "outputs": [
        {
          "output_type": "stream",
          "name": "stdout",
          "text": [
            "Mounted at /content/drive\n"
          ]
        }
      ]
    },
    {
      "cell_type": "code",
      "source": [
        "f = open(\"/content/drive/MyDrive/Assignments/ques5.txt\",'a+')\n",
        "f.write(f\"Occurence of {st} in \\\"{sent}\\\"\\n\")\n",
        "f.write(str(res))\n",
        "f.write(\"\\n\")\n",
        "f.close()  "
      ],
      "metadata": {
        "id": "zKJg-YK8uyKa"
      },
      "execution_count": null,
      "outputs": []
    },
    {
      "cell_type": "markdown",
      "source": [
        "\n",
        "\n",
        "---\n",
        "\n"
      ],
      "metadata": {
        "id": "SWE6jx1zuy7o"
      }
    },
    {
      "cell_type": "markdown",
      "source": [
        "6. Reversing the words in the sentences"
      ],
      "metadata": {
        "id": "bDaStMLCuzuq"
      }
    },
    {
      "cell_type": "code",
      "source": [
        "'''\n",
        "Write a program that takes a long sentence as input from the user and reverses the\n",
        "words in the sentence. Eg. If the sentence is hello XYZ welcome to ML lab, then the\n",
        "output should be lab ML to welcome XYZ hello.\n",
        "'''\n",
        "print(\"Enter a sentence \")\n",
        "lst = [inp for inp in input().split()]\n",
        "\n",
        "res=[]\n",
        "for x in lst:\n",
        "  res.insert(0,x)\n",
        "\n",
        "print(\"Reversed statement: \",' '.join(res))"
      ],
      "metadata": {
        "colab": {
          "base_uri": "https://localhost:8080/"
        },
        "id": "iAY76Kttu9ng",
        "outputId": "9e8bfa8f-2124-4a9c-dd92-702c913e5a3d"
      },
      "execution_count": null,
      "outputs": [
        {
          "output_type": "stream",
          "name": "stdout",
          "text": [
            "Enter a sentence \n",
            "hii welcome to ML lab\n",
            "Reversed statement:  lab ML to welcome hii\n"
          ]
        }
      ]
    },
    {
      "cell_type": "markdown",
      "source": [
        "\n",
        "\n",
        "---\n",
        "\n"
      ],
      "metadata": {
        "id": "nMzaXPDQ3f8r"
      }
    },
    {
      "cell_type": "markdown",
      "source": [
        "7. File handling finding frequency of occurence of alphabets"
      ],
      "metadata": {
        "id": "RH_vs2lM3gvY"
      }
    },
    {
      "cell_type": "code",
      "source": [
        "'''\n",
        "Write a python program that reads text from an input file (use your own input text file,\n",
        "and refer this to learn how to read a file in google drive from google colab) and counts\n",
        "the number of times each alphabet is appearing in it, and displays the frequency of the\n",
        "occurrence of each alphabet in decreasing order of their frequency. (Use dictionary data-\n",
        "structure to solve it, create an input file as given below)\n",
        "'''\n",
        "\n",
        "fptr = open(\"/content/drive/MyDrive/Assignments/ques7.txt\", 'w+')"
      ],
      "metadata": {
        "id": "HuaTMyML3y_v"
      },
      "execution_count": null,
      "outputs": []
    },
    {
      "cell_type": "code",
      "source": [
        "fptr.write(\"Hii, \")\n",
        "fptr.write(\"Myself Tanvi Verma \\nI have done my schooling from Fatima Convent Sr. Sec. School,Mariam Nagar, Ghaziabad \\nMy hobbies are Reading, Writing, Designing and Music as well. \\nMy current interest is real world application of information and technology into solving problems. \\nA major point of concern is ever increasing stress be it due to workplace, family matters or self conflict.\")"
      ],
      "metadata": {
        "colab": {
          "base_uri": "https://localhost:8080/"
        },
        "id": "32KrNrnJnllJ",
        "outputId": "f87a8b56-a660-4b62-a0d1-facfbc9d3a75"
      },
      "execution_count": null,
      "outputs": [
        {
          "output_type": "execute_result",
          "data": {
            "text/plain": [
              "376"
            ]
          },
          "metadata": {},
          "execution_count": 43
        }
      ]
    },
    {
      "cell_type": "code",
      "source": [
        "fptr.seek(0)"
      ],
      "metadata": {
        "colab": {
          "base_uri": "https://localhost:8080/"
        },
        "id": "BpQh5xgnrZR8",
        "outputId": "1fb8851e-7e2b-4b98-a26b-79a60b0d1545"
      },
      "execution_count": null,
      "outputs": [
        {
          "output_type": "execute_result",
          "data": {
            "text/plain": [
              "0"
            ]
          },
          "metadata": {},
          "execution_count": 44
        }
      ]
    },
    {
      "cell_type": "code",
      "source": [
        "res={}\n",
        "for ch in fptr.read():\n",
        "  if ch in res:\n",
        "    res[ch] = res[ch]+1\n",
        "  else:\n",
        "    res[ch] = 1\n",
        "\n",
        "#sorting in descending order of values\n",
        "ans = sorted([(value,key) for (key,value) in res.items()], reverse=True)\n",
        "for x in ans:\n",
        "  print(x[1] ,\" : \", x[0])"
      ],
      "metadata": {
        "id": "3xIAQ-2qppQy"
      },
      "execution_count": null,
      "outputs": []
    },
    {
      "cell_type": "markdown",
      "source": [
        "\n",
        "\n",
        "---\n",
        "\n"
      ],
      "metadata": {
        "id": "FJHmqA2Yv2Ua"
      }
    },
    {
      "cell_type": "markdown",
      "source": [
        "8. Program to find the square root of given number 'n' upto precision 'p'\n",
        "\n",
        "\n"
      ],
      "metadata": {
        "id": "SvLKq-ouv3G6"
      }
    },
    {
      "cell_type": "code",
      "source": [
        "'''\n",
        "Write a python program to find the square root of a given number (n) within a given\n",
        "precision (p). Do not use any predefined library. (Take a guess, compute error at each\n",
        "successive step, until error is less than given precision) Example values of n are 10,15,\n",
        "45, etc. Example values of p are 0.1, 0.05, 0.01, etc.\n",
        "'''\n",
        "def square_root(n,p):\n",
        "  return round((n**0.5),(len(p)-2))\n",
        "\n",
        "n = float(input(\"Enter a number \"))\n",
        "p = input(\"Enter precision points \")\n",
        "\n",
        "print(square_root(n,p))"
      ],
      "metadata": {
        "id": "LYzjM3W5v_nz",
        "colab": {
          "base_uri": "https://localhost:8080/"
        },
        "outputId": "61c1b186-ae5a-4e88-d0aa-7b14fe8e0cb2"
      },
      "execution_count": null,
      "outputs": [
        {
          "output_type": "stream",
          "name": "stdout",
          "text": [
            "Enter a number 10\n",
            "Enter precision points 0.01\n",
            "3.16\n"
          ]
        }
      ]
    },
    {
      "cell_type": "code",
      "source": [
        "def sqrRoot(n,p):\n",
        "  ans, s, e = 0, 1, n\n",
        "  while(s<=e):\n",
        "    guess = (s+e)/2\n",
        "    ans = guess \n",
        "\n",
        "    if abs(guess**2 - n) <= p: #error less than desired precision\n",
        "      break\n",
        "\n",
        "    elif guess**2 >n:\n",
        "      e = guess\n",
        "\n",
        "    else:\n",
        "      s = guess\n",
        "\n",
        "  return ans\n",
        "      \n",
        "\n",
        "n = float(input(\"Enter a number \"))\n",
        "p = input(\"Enter precision points \")\n",
        "\n",
        "print(round(sqrRoot(n,float(p)),len(p)-2))"
      ],
      "metadata": {
        "id": "jSl3My-58kz9",
        "colab": {
          "base_uri": "https://localhost:8080/"
        },
        "outputId": "55539c5b-7983-439b-cc39-b7a038e2a5ee"
      },
      "execution_count": null,
      "outputs": [
        {
          "output_type": "stream",
          "name": "stdout",
          "text": [
            "Enter a number 10\n",
            "Enter precision points 0.001\n",
            "3.162\n"
          ]
        }
      ]
    },
    {
      "cell_type": "markdown",
      "source": [
        "\n",
        "\n",
        "---\n",
        "\n"
      ],
      "metadata": {
        "id": "nWugtmDh8lOb"
      }
    },
    {
      "cell_type": "markdown",
      "source": [
        "9. Find the minimum value of a function"
      ],
      "metadata": {
        "id": "DKHdywba8mg8"
      }
    },
    {
      "cell_type": "code",
      "source": [
        "'''\n",
        "Find the minimum value of a function y = (x+3) 2 . Write a python program to find the\n",
        "minimum value, use the numerical method\n",
        "'''\n",
        "\n",
        "# y = (x + 3)^2\n",
        "# gradient of function = 2*(x + 3)\n",
        "\n",
        "def minima(x,reps,rate,precision):\n",
        "  descent = lambda x: 2*(x+3)\n",
        "  eachStep = 1\n",
        "  itr = 0\n",
        "  while eachStep > precision and itr < reps:\n",
        "    prevX = x\n",
        "    x = x- rate * descent(x)\n",
        "    eachStep = abs(x-prevX)\n",
        "    itr += 1\n",
        "\n",
        "  print(f\"Minima found at x = {x}\")\n"
      ],
      "metadata": {
        "id": "OCH0-0gdmQTp"
      },
      "execution_count": null,
      "outputs": []
    },
    {
      "cell_type": "code",
      "source": [
        "minima(3,1000,0.01,0.000001)"
      ],
      "metadata": {
        "colab": {
          "base_uri": "https://localhost:8080/"
        },
        "id": "OHG2zI_roOxU",
        "outputId": "cb7a99d2-7796-48c2-f53b-fe9703876ca6"
      },
      "execution_count": null,
      "outputs": [
        {
          "output_type": "stream",
          "name": "stdout",
          "text": [
            "Minima found at x = -2.99995110379515\n"
          ]
        }
      ]
    },
    {
      "cell_type": "markdown",
      "source": [
        "\n",
        "\n",
        "---\n",
        "\n"
      ],
      "metadata": {
        "id": "LhdyUjPKqRDS"
      }
    },
    {
      "cell_type": "markdown",
      "source": [
        "10. Vector class and related member functions"
      ],
      "metadata": {
        "id": "8qWgQ_PMNWtx"
      }
    },
    {
      "cell_type": "code",
      "source": [
        "'''\n",
        "Create a suitable class in python to represent the mathematical concept of\n",
        "vector (use list data structure to represent vector). Create appropriate member\n",
        "variables and member functions of this class to perform operations: Length of vector,\n",
        "Cosine similarity between two vectors, Euclidean distance between two vectors.\n",
        "'''\n",
        "import math\n",
        "class Vector:\n",
        "  def __init__(self):\n",
        "    n = int(input(\"Enter dimensions of your vector: \"))\n",
        "    self.lst = []\n",
        "    print(\"Enter elements of the vector \")\n",
        "    for i in range(n):\n",
        "      self.lst.append(int(input()))\n",
        "\n",
        "\n",
        "  def length(self):\n",
        "    sum = 0\n",
        "    for x in self.lst:\n",
        "      sum += (x**2)\n",
        "    return math.sqrt(sum)\n",
        "\n",
        "\n",
        "  def cosine(self,v2):\n",
        "    lis = list(map(lambda x,y: x*y, self.lst, v2.lst))\n",
        "    num = 0\n",
        "    for x in lis:\n",
        "      num += x\n",
        "\n",
        "    den = self.magnitude() * v2.magnitude()\n",
        "\n",
        "    return num/den\n",
        "\n",
        "\n",
        "  def eucDist(self,v2):\n",
        "    lis = list(map(lambda x,y: x-y, self.lst, v2.lst))\n",
        "\n",
        "    sum = 0\n",
        "    for x in lis:\n",
        "      sum += (x**2)\n",
        "\n",
        "    return math.sqrt(sum)\n",
        "\n",
        "  def disp(self):\n",
        "    i=105\n",
        "    for x in self.lst:\n",
        "      print(f\"{x}{chr(i)}  \",end=\" \")\n",
        "      i+=1"
      ],
      "metadata": {
        "id": "lql3bMUua5IW"
      },
      "execution_count": null,
      "outputs": []
    },
    {
      "cell_type": "code",
      "source": [
        "v1 = Vector()\n",
        "v2 = Vector()\n",
        "\n",
        "v1.disp()\n",
        "print(\"\\nMagnitude = \", v1.length())\n",
        "\n",
        "v2.disp()\n",
        "print(\"\\nMagnitude = \", v2.length())\n",
        "print(\"Euclidean Distance = \", v1.eucDist(v2))"
      ],
      "metadata": {
        "colab": {
          "base_uri": "https://localhost:8080/"
        },
        "id": "HwrljKDZbXhs",
        "outputId": "1c3469ec-caa0-4c89-b4d2-9c3f0821812d"
      },
      "execution_count": null,
      "outputs": [
        {
          "output_type": "stream",
          "name": "stdout",
          "text": [
            "Enter dimensions of your vector: 2\n",
            "Enter elements of the vector \n",
            "2\n",
            "-1\n",
            "Enter dimensions of your vector: 2\n",
            "Enter elements of the vector \n",
            "-2\n",
            "2\n",
            "2i +  -1j +  Magnitude =  2.23606797749979\n",
            "-2i +  2j +  Magnitude =  2.8284271247461903\n",
            "Euclidean Distance =  5.0\n"
          ]
        }
      ]
    }
  ]
}